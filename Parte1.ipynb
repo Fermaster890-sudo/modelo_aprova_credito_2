{
 "cells": [
  {
   "cell_type": "markdown",
   "metadata": {},
   "source": [
    "# Projeto de Modelagem de Aprovação de Crédito: Um Case"
   ]
  },
  {
   "cell_type": "markdown",
   "metadata": {},
   "source": [
    "## Contextualização\n",
    "\n",
    "No início de 2023, o departamento de crédito do Banco enfrentava um desafio significativo. Com uma taxa de inadimplência crescente e um processo manual de análise que levava, em média, 3 dias úteis para aprovar ou rejeitar solicitações de crédito, era evidente que uma transformação digital se fazia necessária.\n",
    "\n",
    "Durante uma reunião trimestral de resultados, Maria Silva, Diretora de Crédito do BNF, apresentou números preocupantes:\n",
    "\n",
    "- Tempo médio de análise: 3 dias úteis\n",
    "- Taxa de inadimplência: 12% (2% acima do mercado)\n",
    "- Taxa de abandono de solicitações: 22% (clientes desistiam durante o processo)\n",
    "- Alta correlação entre demora para aprovação e abandono de solicitações\n",
    "- Custo operacional da análise manual: R$2,2 milhões/ano\n",
    "\n",
    "\"Precisamos modernizar nosso processo de análise de crédito. Acredito que a ciência de dados possa nos ajudar a tomar decisões mais precisas e ágeis\", afirmou Maria durante a apresentação.\n",
    "\n",
    "Foi assim que, na semana seguinte, nosso time de Data Science recebeu um e-mail com o assunto: \"URGENTE: Projeto Estratégico - Modelo de Aprovação de Crédito Automatizado\".\n",
    "\n",
    "O desafio estava lançado: desenvolver um modelo preditivo capaz de aprovar ou rejeitar solicitações de crédito de forma automática, reduzindo o tempo de análise para segundos, diminuindo a taxa de inadimplência/abandono e, consequentemente, aumentando a rentabilidade da carteira de crédito do banco.\n",
    "\n",
    "Nossa jornada começou com a coleta e análise de dados históricos de aprovações e rejeições de crédito do último ano. Este notebook documenta o processo de desenvolvimento, avaliação e implementação do modelo que transformaria o departamento de crédito.\n",
    "\n",
    "## Objetivos do Projeto\n",
    "\n",
    "1. Reduzir o tempo de análise de crédito de 3 dias para menos de 1 minuto\n",
    "2. Diminuir a taxa de inadimplência em pelo menos 3 pontos percentuais\n",
    "3. Criar um modelo explicável/interpretável que possa ser auditado pelos reguladores bancários\n",
    "\n",
    "Vamos iniciar esta jornada explorando os dados disponíveis e entendendo os padrões que podem nos ajudar a prever com precisão quais clientes têm maior probabilidade de honrar seus compromissos financeiros.\n"
   ]
  },
  {
   "cell_type": "markdown",
   "metadata": {},
   "source": [
    "# 1. Tratando e Explorando Dados"
   ]
  },
  {
   "cell_type": "markdown",
   "metadata": {},
   "source": [
    "https://www.kaggle.com/datasets/caesarmario/application-data/data"
   ]
  },
  {
   "cell_type": "markdown",
   "metadata": {},
   "source": [
    "## 1.1 Importando Bibliotecas"
   ]
  },
  {
   "cell_type": "code",
   "execution_count": null,
   "metadata": {},
   "outputs": [],
   "source": [
    "'''\n",
    "! pip install -r requirements.txt\n",
    "'''"
   ]
  },
  {
   "cell_type": "code",
   "execution_count": 43,
   "metadata": {},
   "outputs": [],
   "source": [
    "import pandas as pd\n",
    "import matplotlib.pyplot as plt\n",
    "import seaborn as sns\n",
    "import numpy as np\n",
    "import sklearn\n",
    "import imblearn\n",
    "from imblearn.under_sampling import RandomUnderSampler\n",
    "from sklearn.metrics import classification_report\n",
    "from sklearn.tree import DecisionTreeClassifier\n",
    "from sklearn.model_selection import train_test_split\n",
    "from sklearn.ensemble import RandomForestClassifier\n",
    "from sklearn.metrics import accuracy_score"
   ]
  },
  {
   "cell_type": "markdown",
   "metadata": {},
   "source": [
    "## 1.2 Lendo dados e traduzindo para melhor compreensão"
   ]
  },
  {
   "cell_type": "code",
   "execution_count": 3,
   "metadata": {},
   "outputs": [],
   "source": [
    "df = pd.read_csv(\"Application_data.csv\")"
   ]
  },
  {
   "cell_type": "markdown",
   "metadata": {},
   "source": [
    "Vamos traduzir os dados, começando pelas colunas"
   ]
  },
  {
   "cell_type": "code",
   "execution_count": 4,
   "metadata": {},
   "outputs": [
    {
     "name": "stdout",
     "output_type": "stream",
     "text": [
      "Novas colunas traduzidas:\n",
      "Index(['ID_Solicitante', 'Genero_Solicitante', 'Possui_Carro', 'Possui_Imovel',\n",
      "       'Total_Filhos', 'Renda_Total', 'Tipo_Renda', 'Nivel_Educacao',\n",
      "       'Estado_Civil', 'Tipo_Moradia', 'Possui_Celular',\n",
      "       'Possui_Tel_Comercial', 'Possui_Tel_Fixo', 'Possui_Email', 'Cargo',\n",
      "       'Total_Membros_Familia', 'Idade_Solicitante', 'Anos_Trabalho',\n",
      "       'Total_Dividas_Ruins', 'Total_Dividas_Boas', 'Status'],\n",
      "      dtype='object')\n"
     ]
    }
   ],
   "source": [
    "# Mudando nomes das colunas\n",
    "# Dicionário de tradução das colunas\n",
    "traducao_colunas = {\n",
    "    'Applicant_ID': 'ID_Solicitante',\n",
    "    'Applicant_Gender': 'Genero_Solicitante',\n",
    "    'Owned_Car': 'Possui_Carro',\n",
    "    'Owned_Realty': 'Possui_Imovel',\n",
    "    'Total_Children': 'Total_Filhos',\n",
    "    'Total_Income': 'Renda_Total',\n",
    "    'Income_Type': 'Tipo_Renda',\n",
    "    'Education_Type': 'Nivel_Educacao',\n",
    "    'Family_Status': 'Estado_Civil',\n",
    "    'Housing_Type': 'Tipo_Moradia',\n",
    "    'Owned_Mobile_Phone': 'Possui_Celular',\n",
    "    'Owned_Work_Phone': 'Possui_Tel_Comercial',\n",
    "    'Owned_Phone': 'Possui_Tel_Fixo',\n",
    "    'Owned_Email': 'Possui_Email',\n",
    "    'Job_Title': 'Cargo',\n",
    "    'Total_Family_Members': 'Total_Membros_Familia',\n",
    "    'Applicant_Age': 'Idade_Solicitante',\n",
    "    'Years_of_Working': 'Anos_Trabalho',\n",
    "    'Total_Bad_Debt': 'Total_Dividas_Ruins',\n",
    "    'Total_Good_Debt': 'Total_Dividas_Boas',\n",
    "    'Status': 'Status'\n",
    "}\n",
    "\n",
    "# Renomear as colunas do DataFrame\n",
    "df = df.rename(columns=traducao_colunas)\n",
    "\n",
    "# Verificar as novas colunas\n",
    "print(\"Novas colunas traduzidas:\")\n",
    "print(df.columns)"
   ]
  },
  {
   "cell_type": "code",
   "execution_count": 5,
   "metadata": {},
   "outputs": [
    {
     "name": "stdout",
     "output_type": "stream",
     "text": [
      "Valores únicos após remoção dos espaços:\n",
      "\n",
      "Genero_Solicitante:\n",
      "['M' 'F']\n",
      "\n",
      "Tipo_Renda:\n",
      "['Working' 'Commercial associate' 'State servant' 'Student' 'Pensioner']\n",
      "\n",
      "Nivel_Educacao:\n",
      "['Secondary / secondary special' 'Higher education' 'Incomplete higher'\n",
      " 'Lower secondary' 'Academic degree']\n",
      "\n",
      "Estado_Civil:\n",
      "['Married' 'Single / not married' 'Civil marriage' 'Separated' 'Widow']\n",
      "\n",
      "Tipo_Moradia:\n",
      "['House / apartment' 'Rented apartment' 'Municipal apartment'\n",
      " 'With parents' 'Co-op apartment' 'Office apartment']\n",
      "\n",
      "Cargo:\n",
      "['Security staff' 'Sales staff' 'Accountants' 'Laborers' 'Managers'\n",
      " 'Drivers' 'Core staff' 'High skill tech staff' 'Cleaning staff'\n",
      " 'Private service staff' 'Cooking staff' 'Low-skill Laborers'\n",
      " 'Medicine staff' 'Secretaries' 'Waiters/barmen staff' 'HR staff'\n",
      " 'Realty agents' 'IT staff']\n"
     ]
    }
   ],
   "source": [
    "# Nesse caso, vamos remover os espaços em branco das variáveis categóricas\n",
    "# para que não haja confusão entre valores idênticos, mas com espaços diferentes\n",
    "# Exemplo: 'Masculino' e 'Masculino ' são tratados como valores diferentes\n",
    "# Remover espaços nas bordas das variáveis categóricas\n",
    "categorical_columns = ['Genero_Solicitante', 'Tipo_Renda', 'Nivel_Educacao', \n",
    "                      'Estado_Civil', 'Tipo_Moradia', 'Cargo']\n",
    "\n",
    "# Aplicar strip() em todas as colunas categóricas\n",
    "for col in categorical_columns:\n",
    "    df[col] = df[col].str.strip()\n",
    "\n",
    "# Verificar o resultado para uma coluna\n",
    "print(\"Valores únicos após remoção dos espaços:\")\n",
    "for col in categorical_columns:\n",
    "    print(f\"\\n{col}:\")\n",
    "    print(df[col].unique())"
   ]
  },
  {
   "cell_type": "code",
   "execution_count": 6,
   "metadata": {},
   "outputs": [
    {
     "data": {
      "text/plain": [
       "array(['Working', 'Commercial associate', 'State servant', 'Student',\n",
       "       'Pensioner'], dtype=object)"
      ]
     },
     "execution_count": 6,
     "metadata": {},
     "output_type": "execute_result"
    }
   ],
   "source": [
    "df['Tipo_Renda'].unique()"
   ]
  },
  {
   "cell_type": "code",
   "execution_count": 7,
   "metadata": {},
   "outputs": [
    {
     "name": "stdout",
     "output_type": "stream",
     "text": [
      "Valores únicos após tradução:\n",
      "\n",
      "Tipo_Renda:\n",
      "['Trabalhador CLT' 'Associado Comercial' 'Servidor Público' 'Estudante'\n",
      " 'Aposentado']\n",
      "\n",
      "Nivel_Educacao:\n",
      "['Ensino Médio / Técnico' 'Ensino Superior' 'Superior Incompleto'\n",
      " 'Ensino Fundamental' 'Pós-graduação']\n",
      "\n",
      "Estado_Civil:\n",
      "['Casado' 'Solteiro' 'União Estável' 'Separado' 'Viúvo']\n",
      "\n",
      "Tipo_Moradia:\n",
      "['Casa/Apartamento' 'Apartamento Alugado' 'Apartamento Municipal'\n",
      " 'Com os Pais' 'Apartamento Cooperativa' 'Apartamento Funcional']\n",
      "\n",
      "Cargo:\n",
      "['Equipe de Segurança' 'Equipe de Vendas' 'Contadores'\n",
      " 'Trabalhadores Braçais' 'Gerentes' 'Motoristas' 'Equipe Principal'\n",
      " 'Equipe Técnica Especializada' 'Equipe de Limpeza'\n",
      " 'Equipe de Serviço Privado' 'Equipe de Cozinha'\n",
      " 'Trabalhadores Não Especializados' 'Equipe Médica' 'Secretários'\n",
      " 'Garçons/Bartenders' 'Equipe de RH' 'Corretores de Imóveis'\n",
      " 'Equipe de TI']\n"
     ]
    }
   ],
   "source": [
    "# Vamos transformar os valores das colunas para português\n",
    "# Dicionário de traduções para variáveis categóricas\n",
    "traducoes = {\n",
    "    # Gênero\n",
    "    'M': 'M',\n",
    "    'F': 'F',\n",
    "    \n",
    "    # Tipo de Renda\n",
    "    'Working': 'Trabalhador CLT',\n",
    "    'Commercial associate': 'Associado Comercial',\n",
    "    'State servant': 'Servidor Público',\n",
    "    'Student': 'Estudante',\n",
    "    'Pensioner': 'Aposentado',\n",
    "    \n",
    "    # Educação\n",
    "    'Secondary / secondary special': 'Ensino Médio / Técnico',\n",
    "    'Higher education': 'Ensino Superior',\n",
    "    'Incomplete higher': 'Superior Incompleto',\n",
    "    'Lower secondary': 'Ensino Fundamental',\n",
    "    'Academic degree': 'Pós-graduação',\n",
    "    \n",
    "    # Estado Civil\n",
    "    'Married': 'Casado',\n",
    "    'Single / not married': 'Solteiro',\n",
    "    'Civil marriage': 'União Estável',\n",
    "    'Separated': 'Separado',\n",
    "    'Widow': 'Viúvo',\n",
    "    \n",
    "    # Tipo de Moradia\n",
    "    'House / apartment': 'Casa/Apartamento',\n",
    "    'Rented apartment': 'Apartamento Alugado',\n",
    "    'Municipal apartment': 'Apartamento Municipal',\n",
    "    'With parents': 'Com os Pais',\n",
    "    'Co-op apartment': 'Apartamento Cooperativa',\n",
    "    'Office apartment': 'Apartamento Funcional',\n",
    "    \n",
    "    # Cargos\n",
    "    'Security staff': 'Equipe de Segurança',\n",
    "    'Sales staff': 'Equipe de Vendas',\n",
    "    'Accountants': 'Contadores',\n",
    "    'Laborers': 'Trabalhadores Braçais',\n",
    "    'Managers': 'Gerentes',\n",
    "    'Drivers': 'Motoristas',\n",
    "    'Core staff': 'Equipe Principal',\n",
    "    'High skill tech staff': 'Equipe Técnica Especializada',\n",
    "    'Cleaning staff': 'Equipe de Limpeza',\n",
    "    'Private service staff': 'Equipe de Serviço Privado',\n",
    "    'Cooking staff': 'Equipe de Cozinha',\n",
    "    'Low-skill Laborers': 'Trabalhadores Não Especializados',\n",
    "    'Medicine staff': 'Equipe Médica',\n",
    "    'Secretaries': 'Secretários',\n",
    "    'Waiters/barmen staff': 'Garçons/Bartenders',\n",
    "    'HR staff': 'Equipe de RH',\n",
    "    'Realty agents': 'Corretores de Imóveis',\n",
    "    'IT staff': 'Equipe de TI'\n",
    "}\n",
    "\n",
    "# Aplicar traduções\n",
    "colunas_categoricas = ['Tipo_Renda', 'Nivel_Educacao', 'Estado_Civil', 'Tipo_Moradia', 'Cargo']\n",
    "\n",
    "for coluna in colunas_categoricas:\n",
    "    df[coluna] = df[coluna].map(traducoes)\n",
    "\n",
    "# Verificar resultado\n",
    "print(\"Valores únicos após tradução:\")\n",
    "for coluna in colunas_categoricas:\n",
    "    print(f\"\\n{coluna}:\")\n",
    "    print(df[coluna].unique())"
   ]
  },
  {
   "cell_type": "markdown",
   "metadata": {},
   "source": [
    "## 1.3 Obtendo informações iniciais e levantando requisitos de tratamento de dados"
   ]
  },
  {
   "cell_type": "markdown",
   "metadata": {},
   "source": [
    "Vamos observar quais dos seguintes tratamentos são necessários:\n",
    "\n",
    "1. Duplicatas\n",
    "   - Identificação e remoção de registros duplicados\n",
    "   - Análise de duplicidade em campos chave\n",
    "\n",
    "2. Dados nulos\n",
    "   - Verificação de valores ausentes\n",
    "   - Estratégias de tratamento (imputação ou remoção)\n",
    "\n",
    "\n",
    "3. Balanceamento dos dados\n",
    "\n",
    "4. Tipagem correta dos dados\n",
    "   - Verificação dos tipos de dados\n",
    "   - Conversão para tipos adequados\n",
    "   - Consistência das categorias"
   ]
  },
  {
   "cell_type": "markdown",
   "metadata": {},
   "source": [
    "### 1.3.1 Duplicatas"
   ]
  },
  {
   "cell_type": "code",
   "execution_count": 8,
   "metadata": {},
   "outputs": [
    {
     "data": {
      "text/plain": [
       "0"
      ]
     },
     "execution_count": 8,
     "metadata": {},
     "output_type": "execute_result"
    }
   ],
   "source": [
    "# Identificando a presença de duplicatas\n",
    "df.duplicated().sum()"
   ]
  },
  {
   "cell_type": "markdown",
   "metadata": {},
   "source": [
    "### 1.3.2 Dados Nulos"
   ]
  },
  {
   "cell_type": "code",
   "execution_count": 9,
   "metadata": {},
   "outputs": [
    {
     "data": {
      "text/plain": [
       "ID_Solicitante           0\n",
       "Genero_Solicitante       0\n",
       "Possui_Carro             0\n",
       "Possui_Imovel            0\n",
       "Total_Filhos             0\n",
       "Renda_Total              0\n",
       "Tipo_Renda               0\n",
       "Nivel_Educacao           0\n",
       "Estado_Civil             0\n",
       "Tipo_Moradia             0\n",
       "Possui_Celular           0\n",
       "Possui_Tel_Comercial     0\n",
       "Possui_Tel_Fixo          0\n",
       "Possui_Email             0\n",
       "Cargo                    0\n",
       "Total_Membros_Familia    0\n",
       "Idade_Solicitante        0\n",
       "Anos_Trabalho            0\n",
       "Total_Dividas_Ruins      0\n",
       "Total_Dividas_Boas       0\n",
       "Status                   0\n",
       "dtype: int64"
      ]
     },
     "execution_count": 9,
     "metadata": {},
     "output_type": "execute_result"
    }
   ],
   "source": [
    "# Observando presença de valores nulos\n",
    "df.isnull().sum()"
   ]
  },
  {
   "cell_type": "markdown",
   "metadata": {},
   "source": [
    "### 1.3.3 Outliers"
   ]
  },
  {
   "cell_type": "code",
   "execution_count": 10,
   "metadata": {},
   "outputs": [
    {
     "data": {
      "text/plain": [
       "Index(['ID_Solicitante', 'Genero_Solicitante', 'Possui_Carro', 'Possui_Imovel',\n",
       "       'Total_Filhos', 'Renda_Total', 'Tipo_Renda', 'Nivel_Educacao',\n",
       "       'Estado_Civil', 'Tipo_Moradia', 'Possui_Celular',\n",
       "       'Possui_Tel_Comercial', 'Possui_Tel_Fixo', 'Possui_Email', 'Cargo',\n",
       "       'Total_Membros_Familia', 'Idade_Solicitante', 'Anos_Trabalho',\n",
       "       'Total_Dividas_Ruins', 'Total_Dividas_Boas', 'Status'],\n",
       "      dtype='object')"
      ]
     },
     "execution_count": 10,
     "metadata": {},
     "output_type": "execute_result"
    }
   ],
   "source": [
    "df.columns"
   ]
  },
  {
   "cell_type": "code",
   "execution_count": 11,
   "metadata": {},
   "outputs": [
    {
     "data": {
      "text/html": [
       "<div>\n",
       "<style scoped>\n",
       "    .dataframe tbody tr th:only-of-type {\n",
       "        vertical-align: middle;\n",
       "    }\n",
       "\n",
       "    .dataframe tbody tr th {\n",
       "        vertical-align: top;\n",
       "    }\n",
       "\n",
       "    .dataframe thead th {\n",
       "        text-align: right;\n",
       "    }\n",
       "</style>\n",
       "<table border=\"1\" class=\"dataframe\">\n",
       "  <thead>\n",
       "    <tr style=\"text-align: right;\">\n",
       "      <th></th>\n",
       "      <th>Total_Filhos</th>\n",
       "      <th>Renda_Total</th>\n",
       "      <th>Total_Membros_Familia</th>\n",
       "      <th>Idade_Solicitante</th>\n",
       "      <th>Anos_Trabalho</th>\n",
       "      <th>Total_Dividas_Ruins</th>\n",
       "      <th>Total_Dividas_Boas</th>\n",
       "    </tr>\n",
       "  </thead>\n",
       "  <tbody>\n",
       "    <tr>\n",
       "      <th>count</th>\n",
       "      <td>25128.000000</td>\n",
       "      <td>2.512800e+04</td>\n",
       "      <td>25128.000000</td>\n",
       "      <td>25128.000000</td>\n",
       "      <td>25128.000000</td>\n",
       "      <td>25128.000000</td>\n",
       "      <td>25128.000000</td>\n",
       "    </tr>\n",
       "    <tr>\n",
       "      <th>mean</th>\n",
       "      <td>0.509472</td>\n",
       "      <td>1.948365e+05</td>\n",
       "      <td>2.291309</td>\n",
       "      <td>40.995503</td>\n",
       "      <td>7.690903</td>\n",
       "      <td>0.333095</td>\n",
       "      <td>21.057545</td>\n",
       "    </tr>\n",
       "    <tr>\n",
       "      <th>std</th>\n",
       "      <td>0.762937</td>\n",
       "      <td>1.045211e+05</td>\n",
       "      <td>0.928871</td>\n",
       "      <td>9.552832</td>\n",
       "      <td>6.415007</td>\n",
       "      <td>1.569448</td>\n",
       "      <td>14.735347</td>\n",
       "    </tr>\n",
       "    <tr>\n",
       "      <th>min</th>\n",
       "      <td>0.000000</td>\n",
       "      <td>2.700000e+04</td>\n",
       "      <td>1.000000</td>\n",
       "      <td>21.000000</td>\n",
       "      <td>1.000000</td>\n",
       "      <td>0.000000</td>\n",
       "      <td>1.000000</td>\n",
       "    </tr>\n",
       "    <tr>\n",
       "      <th>25%</th>\n",
       "      <td>0.000000</td>\n",
       "      <td>1.350000e+05</td>\n",
       "      <td>2.000000</td>\n",
       "      <td>33.000000</td>\n",
       "      <td>3.000000</td>\n",
       "      <td>0.000000</td>\n",
       "      <td>9.000000</td>\n",
       "    </tr>\n",
       "    <tr>\n",
       "      <th>50%</th>\n",
       "      <td>0.000000</td>\n",
       "      <td>1.800000e+05</td>\n",
       "      <td>2.000000</td>\n",
       "      <td>40.000000</td>\n",
       "      <td>6.000000</td>\n",
       "      <td>0.000000</td>\n",
       "      <td>18.000000</td>\n",
       "    </tr>\n",
       "    <tr>\n",
       "      <th>75%</th>\n",
       "      <td>1.000000</td>\n",
       "      <td>2.250000e+05</td>\n",
       "      <td>3.000000</td>\n",
       "      <td>48.000000</td>\n",
       "      <td>10.000000</td>\n",
       "      <td>0.000000</td>\n",
       "      <td>31.000000</td>\n",
       "    </tr>\n",
       "    <tr>\n",
       "      <th>max</th>\n",
       "      <td>5.000000</td>\n",
       "      <td>1.575000e+06</td>\n",
       "      <td>7.000000</td>\n",
       "      <td>68.000000</td>\n",
       "      <td>44.000000</td>\n",
       "      <td>49.000000</td>\n",
       "      <td>61.000000</td>\n",
       "    </tr>\n",
       "  </tbody>\n",
       "</table>\n",
       "</div>"
      ],
      "text/plain": [
       "       Total_Filhos   Renda_Total  Total_Membros_Familia  Idade_Solicitante  \\\n",
       "count  25128.000000  2.512800e+04           25128.000000       25128.000000   \n",
       "mean       0.509472  1.948365e+05               2.291309          40.995503   \n",
       "std        0.762937  1.045211e+05               0.928871           9.552832   \n",
       "min        0.000000  2.700000e+04               1.000000          21.000000   \n",
       "25%        0.000000  1.350000e+05               2.000000          33.000000   \n",
       "50%        0.000000  1.800000e+05               2.000000          40.000000   \n",
       "75%        1.000000  2.250000e+05               3.000000          48.000000   \n",
       "max        5.000000  1.575000e+06               7.000000          68.000000   \n",
       "\n",
       "       Anos_Trabalho  Total_Dividas_Ruins  Total_Dividas_Boas  \n",
       "count   25128.000000         25128.000000        25128.000000  \n",
       "mean        7.690903             0.333095           21.057545  \n",
       "std         6.415007             1.569448           14.735347  \n",
       "min         1.000000             0.000000            1.000000  \n",
       "25%         3.000000             0.000000            9.000000  \n",
       "50%         6.000000             0.000000           18.000000  \n",
       "75%        10.000000             0.000000           31.000000  \n",
       "max        44.000000            49.000000           61.000000  "
      ]
     },
     "execution_count": 11,
     "metadata": {},
     "output_type": "execute_result"
    }
   ],
   "source": [
    "# Listando as variáveis numéricas não binárias\n",
    "# Criar DataFrame apenas com colunas numéricas excluindo as que contém \"Possui\"\n",
    "colunas_numericas = df.select_dtypes(include=['int64', 'float64']).columns\n",
    "colunas_sem_possui = [col for col in colunas_numericas \n",
    "                     if 'Possui' not in col \n",
    "                     and 'Status' not in col \n",
    "                     and 'ID_Solicitante' not in col]\n",
    "\n",
    "df_numericas = df[colunas_sem_possui]\n",
    "\n",
    "# Visualizar as colunas selecionadas\n",
    "\n",
    "df_numericas.describe()\n"
   ]
  },
  {
   "cell_type": "code",
   "execution_count": 12,
   "metadata": {},
   "outputs": [
    {
     "data": {
      "image/png": "[encoded data removed]",
      "text/plain": [
       "<Figure size 2000x1000 with 1 Axes>"
      ]
     },
     "metadata": {},
     "output_type": "display_data"
    }
   ],
   "source": [
    "# plotando todas as variaeis em boxplot\n",
    "plt.figure(figsize=(20,10))\n",
    "sns.boxplot(data=df_numericas, orient='h')\n",
    "plt.show()"
   ]
  },
  {
   "cell_type": "markdown",
   "metadata": {},
   "source": [
    "Dada a discrepância entre a variável de renda e as outras, vamos plotar separadamente renda e as outras:"
   ]
  },
  {
   "cell_type": "code",
   "execution_count": 13,
   "metadata": {},
   "outputs": [
    {
     "data": {
      "image/png": "[encoded data removed]",
      "text/plain": [
       "<Figure size 1500x700 with 1 Axes>"
      ]
     },
     "metadata": {},
     "output_type": "display_data"
    }
   ],
   "source": [
    "# Plotando renda\n",
    "plt.figure(figsize=(15,7))\n",
    "sns.boxplot(data=df_numericas['Renda_Total'], orient='h')\n",
    "plt.show()"
   ]
  },
  {
   "cell_type": "code",
   "execution_count": 14,
   "metadata": {},
   "outputs": [
    {
     "data": {
      "image/png": "[encoded data removed]",
      "text/plain": [
       "<Figure size 1500x700 with 1 Axes>"
      ]
     },
     "metadata": {},
     "output_type": "display_data"
    }
   ],
   "source": [
    "# Plotando as outras variáveis\n",
    "plt.figure(figsize=(15,7))\n",
    "sns.boxplot(data=df_numericas.drop('Renda_Total', axis=1), orient='h')\n",
    "plt.show()"
   ]
  },
  {
   "cell_type": "markdown",
   "metadata": {},
   "source": [
    "Identificamos uma assimetria significativa na distribuição dos dados de renda, total de dívidas ruins e anos de trabalho o que representa nossa primeira potencial necessidade de tratamento de dados. \n",
    "\n",
    "Como o modelo de machine learning ainda não foi definido, não podemos afirmar com certeza se será necessário normalizar estas variáveis. Os modelos paramétricos assumem que os dados seguem uma distribuição normal, enquanto outros, como Random Forest e XGBoost (não paramétricos), não fazem essa exigência.\n",
    "\n",
    "**Observação importante:** \n",
    "- Registrar esta característica dos dados para posterior avaliação\n",
    "- Considerar possíveis transformações (log, Box-Cox, etc.) caso o modelo escolhido exija normalidade"
   ]
  },
  {
   "cell_type": "markdown",
   "metadata": {},
   "source": [
    "### 1.3.4 Tipagem dos dados - *Encoding* de Categorias"
   ]
  },
  {
   "cell_type": "code",
   "execution_count": 15,
   "metadata": {},
   "outputs": [
    {
     "data": {
      "text/html": [
       "<div>\n",
       "<style scoped>\n",
       "    .dataframe tbody tr th:only-of-type {\n",
       "        vertical-align: middle;\n",
       "    }\n",
       "\n",
       "    .dataframe tbody tr th {\n",
       "        vertical-align: top;\n",
       "    }\n",
       "\n",
       "    .dataframe thead th {\n",
       "        text-align: right;\n",
       "    }\n",
       "</style>\n",
       "<table border=\"1\" class=\"dataframe\">\n",
       "  <thead>\n",
       "    <tr style=\"text-align: right;\">\n",
       "      <th></th>\n",
       "      <th>Genero_Solicitante</th>\n",
       "      <th>Tipo_Renda</th>\n",
       "      <th>Nivel_Educacao</th>\n",
       "      <th>Estado_Civil</th>\n",
       "      <th>Tipo_Moradia</th>\n",
       "      <th>Cargo</th>\n",
       "    </tr>\n",
       "  </thead>\n",
       "  <tbody>\n",
       "    <tr>\n",
       "      <th>0</th>\n",
       "      <td>M</td>\n",
       "      <td>Trabalhador CLT</td>\n",
       "      <td>Ensino Médio / Técnico</td>\n",
       "      <td>Casado</td>\n",
       "      <td>Casa/Apartamento</td>\n",
       "      <td>Equipe de Segurança</td>\n",
       "    </tr>\n",
       "    <tr>\n",
       "      <th>1</th>\n",
       "      <td>F</td>\n",
       "      <td>Associado Comercial</td>\n",
       "      <td>Ensino Médio / Técnico</td>\n",
       "      <td>Solteiro</td>\n",
       "      <td>Casa/Apartamento</td>\n",
       "      <td>Equipe de Vendas</td>\n",
       "    </tr>\n",
       "    <tr>\n",
       "      <th>2</th>\n",
       "      <td>F</td>\n",
       "      <td>Associado Comercial</td>\n",
       "      <td>Ensino Médio / Técnico</td>\n",
       "      <td>Solteiro</td>\n",
       "      <td>Casa/Apartamento</td>\n",
       "      <td>Equipe de Vendas</td>\n",
       "    </tr>\n",
       "    <tr>\n",
       "      <th>3</th>\n",
       "      <td>F</td>\n",
       "      <td>Associado Comercial</td>\n",
       "      <td>Ensino Médio / Técnico</td>\n",
       "      <td>Solteiro</td>\n",
       "      <td>Casa/Apartamento</td>\n",
       "      <td>Equipe de Vendas</td>\n",
       "    </tr>\n",
       "    <tr>\n",
       "      <th>4</th>\n",
       "      <td>F</td>\n",
       "      <td>Associado Comercial</td>\n",
       "      <td>Ensino Médio / Técnico</td>\n",
       "      <td>Solteiro</td>\n",
       "      <td>Casa/Apartamento</td>\n",
       "      <td>Equipe de Vendas</td>\n",
       "    </tr>\n",
       "  </tbody>\n",
       "</table>\n",
       "</div>"
      ],
      "text/plain": [
       "  Genero_Solicitante           Tipo_Renda          Nivel_Educacao  \\\n",
       "0                  M      Trabalhador CLT  Ensino Médio / Técnico   \n",
       "1                  F  Associado Comercial  Ensino Médio / Técnico   \n",
       "2                  F  Associado Comercial  Ensino Médio / Técnico   \n",
       "3                  F  Associado Comercial  Ensino Médio / Técnico   \n",
       "4                  F  Associado Comercial  Ensino Médio / Técnico   \n",
       "\n",
       "  Estado_Civil      Tipo_Moradia                Cargo  \n",
       "0       Casado  Casa/Apartamento  Equipe de Segurança  \n",
       "1     Solteiro  Casa/Apartamento     Equipe de Vendas  \n",
       "2     Solteiro  Casa/Apartamento     Equipe de Vendas  \n",
       "3     Solteiro  Casa/Apartamento     Equipe de Vendas  \n",
       "4     Solteiro  Casa/Apartamento     Equipe de Vendas  "
      ]
     },
     "execution_count": 15,
     "metadata": {},
     "output_type": "execute_result"
    }
   ],
   "source": [
    "# Agora vamos olhar para as variáveis categóricas\n",
    "df_categoricas = df.select_dtypes(include=['object'])\n",
    "df_categoricas.head()"
   ]
  },
  {
   "cell_type": "code",
   "execution_count": 16,
   "metadata": {},
   "outputs": [
    {
     "data": {
      "text/plain": [
       "Genero_Solicitante     2\n",
       "Tipo_Renda             5\n",
       "Nivel_Educacao         5\n",
       "Estado_Civil           5\n",
       "Tipo_Moradia           6\n",
       "Cargo                 18\n",
       "dtype: int64"
      ]
     },
     "execution_count": 16,
     "metadata": {},
     "output_type": "execute_result"
    }
   ],
   "source": [
    "# Observando a quantidade de valores únicos\n",
    "df_categoricas.nunique()"
   ]
  },
  {
   "cell_type": "markdown",
   "metadata": {},
   "source": [
    "Para a variável binária (Genero_Solicitante), vamos realizar uma conversão apenas para 0 e 1. Porém, vamos observar se uma transformação como a One-Hot Encoding seria cabível para todas as outras variáveis categóricas. Para isso, podemos determinar quais variáveis são ordinais e quais são nominais:"
   ]
  },
  {
   "cell_type": "code",
   "execution_count": 17,
   "metadata": {},
   "outputs": [],
   "source": [
    "# Realizando One-Hot Encoding para variável Genero_Solicitante\n",
    "df = pd.get_dummies(df, columns=['Genero_Solicitante'], drop_first=True)"
   ]
  },
  {
   "cell_type": "code",
   "execution_count": 18,
   "metadata": {},
   "outputs": [],
   "source": [
    "# Realizando One-Hot Encoding para variável Estado_Civil\n",
    "df = pd.get_dummies(df, columns=['Estado_Civil'], drop_first=True)"
   ]
  },
  {
   "cell_type": "code",
   "execution_count": 19,
   "metadata": {},
   "outputs": [
    {
     "data": {
      "text/html": [
       "<div>\n",
       "<style scoped>\n",
       "    .dataframe tbody tr th:only-of-type {\n",
       "        vertical-align: middle;\n",
       "    }\n",
       "\n",
       "    .dataframe tbody tr th {\n",
       "        vertical-align: top;\n",
       "    }\n",
       "\n",
       "    .dataframe thead th {\n",
       "        text-align: right;\n",
       "    }\n",
       "</style>\n",
       "<table border=\"1\" class=\"dataframe\">\n",
       "  <thead>\n",
       "    <tr style=\"text-align: right;\">\n",
       "      <th></th>\n",
       "      <th>Tipo_Renda</th>\n",
       "      <th>Nivel_Educacao</th>\n",
       "      <th>Estado_Civil</th>\n",
       "      <th>Tipo_Moradia</th>\n",
       "    </tr>\n",
       "  </thead>\n",
       "  <tbody>\n",
       "    <tr>\n",
       "      <th>0</th>\n",
       "      <td>Trabalhador CLT</td>\n",
       "      <td>Ensino Médio / Técnico</td>\n",
       "      <td>Casado</td>\n",
       "      <td>Casa/Apartamento</td>\n",
       "    </tr>\n",
       "    <tr>\n",
       "      <th>1</th>\n",
       "      <td>Associado Comercial</td>\n",
       "      <td>Ensino Superior</td>\n",
       "      <td>Solteiro</td>\n",
       "      <td>Apartamento Alugado</td>\n",
       "    </tr>\n",
       "    <tr>\n",
       "      <th>2</th>\n",
       "      <td>Servidor Público</td>\n",
       "      <td>Superior Incompleto</td>\n",
       "      <td>União Estável</td>\n",
       "      <td>Apartamento Municipal</td>\n",
       "    </tr>\n",
       "    <tr>\n",
       "      <th>3</th>\n",
       "      <td>Estudante</td>\n",
       "      <td>Ensino Fundamental</td>\n",
       "      <td>Separado</td>\n",
       "      <td>Com os Pais</td>\n",
       "    </tr>\n",
       "    <tr>\n",
       "      <th>4</th>\n",
       "      <td>Aposentado</td>\n",
       "      <td>Pós-graduação</td>\n",
       "      <td>Viúvo</td>\n",
       "      <td>Apartamento Cooperativa</td>\n",
       "    </tr>\n",
       "    <tr>\n",
       "      <th>5</th>\n",
       "      <td>NaN</td>\n",
       "      <td>NaN</td>\n",
       "      <td>NaN</td>\n",
       "      <td>Apartamento Funcional</td>\n",
       "    </tr>\n",
       "  </tbody>\n",
       "</table>\n",
       "</div>"
      ],
      "text/plain": [
       "            Tipo_Renda          Nivel_Educacao   Estado_Civil  \\\n",
       "0      Trabalhador CLT  Ensino Médio / Técnico         Casado   \n",
       "1  Associado Comercial         Ensino Superior       Solteiro   \n",
       "2     Servidor Público     Superior Incompleto  União Estável   \n",
       "3            Estudante      Ensino Fundamental       Separado   \n",
       "4           Aposentado           Pós-graduação          Viúvo   \n",
       "5                  NaN                     NaN            NaN   \n",
       "\n",
       "              Tipo_Moradia  \n",
       "0         Casa/Apartamento  \n",
       "1      Apartamento Alugado  \n",
       "2    Apartamento Municipal  \n",
       "3              Com os Pais  \n",
       "4  Apartamento Cooperativa  \n",
       "5    Apartamento Funcional  "
      ]
     },
     "execution_count": 19,
     "metadata": {},
     "output_type": "execute_result"
    }
   ],
   "source": [
    "# Observando os valores únicos de todas as variáveis categóricas (exceto Cargo, que possui muitos valores únicos)\n",
    "unique_values = {col: df_categoricas[col].unique() for col in df_categoricas.columns if (col != 'Cargo' and col != 'Genero_Solicitante')}\n",
    "unique_values_df = pd.DataFrame(dict([(k, pd.Series(v)) for k, v in unique_values.items()]))\n",
    "unique_values_df"
   ]
  },
  {
   "cell_type": "code",
   "execution_count": 20,
   "metadata": {},
   "outputs": [
    {
     "data": {
      "text/html": [
       "<div>\n",
       "<style scoped>\n",
       "    .dataframe tbody tr th:only-of-type {\n",
       "        vertical-align: middle;\n",
       "    }\n",
       "\n",
       "    .dataframe tbody tr th {\n",
       "        vertical-align: top;\n",
       "    }\n",
       "\n",
       "    .dataframe thead th {\n",
       "        text-align: right;\n",
       "    }\n",
       "</style>\n",
       "<table border=\"1\" class=\"dataframe\">\n",
       "  <thead>\n",
       "    <tr style=\"text-align: right;\">\n",
       "      <th></th>\n",
       "      <th>Cargo</th>\n",
       "    </tr>\n",
       "  </thead>\n",
       "  <tbody>\n",
       "    <tr>\n",
       "      <th>0</th>\n",
       "      <td>Equipe de Segurança</td>\n",
       "    </tr>\n",
       "    <tr>\n",
       "      <th>1</th>\n",
       "      <td>Equipe de Vendas</td>\n",
       "    </tr>\n",
       "    <tr>\n",
       "      <th>2</th>\n",
       "      <td>Contadores</td>\n",
       "    </tr>\n",
       "    <tr>\n",
       "      <th>3</th>\n",
       "      <td>Trabalhadores Braçais</td>\n",
       "    </tr>\n",
       "    <tr>\n",
       "      <th>4</th>\n",
       "      <td>Gerentes</td>\n",
       "    </tr>\n",
       "    <tr>\n",
       "      <th>5</th>\n",
       "      <td>Motoristas</td>\n",
       "    </tr>\n",
       "    <tr>\n",
       "      <th>6</th>\n",
       "      <td>Equipe Principal</td>\n",
       "    </tr>\n",
       "    <tr>\n",
       "      <th>7</th>\n",
       "      <td>Equipe Técnica Especializada</td>\n",
       "    </tr>\n",
       "    <tr>\n",
       "      <th>8</th>\n",
       "      <td>Equipe de Limpeza</td>\n",
       "    </tr>\n",
       "    <tr>\n",
       "      <th>9</th>\n",
       "      <td>Equipe de Serviço Privado</td>\n",
       "    </tr>\n",
       "    <tr>\n",
       "      <th>10</th>\n",
       "      <td>Equipe de Cozinha</td>\n",
       "    </tr>\n",
       "    <tr>\n",
       "      <th>11</th>\n",
       "      <td>Trabalhadores Não Especializados</td>\n",
       "    </tr>\n",
       "    <tr>\n",
       "      <th>12</th>\n",
       "      <td>Equipe Médica</td>\n",
       "    </tr>\n",
       "    <tr>\n",
       "      <th>13</th>\n",
       "      <td>Secretários</td>\n",
       "    </tr>\n",
       "    <tr>\n",
       "      <th>14</th>\n",
       "      <td>Garçons/Bartenders</td>\n",
       "    </tr>\n",
       "    <tr>\n",
       "      <th>15</th>\n",
       "      <td>Equipe de RH</td>\n",
       "    </tr>\n",
       "    <tr>\n",
       "      <th>16</th>\n",
       "      <td>Corretores de Imóveis</td>\n",
       "    </tr>\n",
       "    <tr>\n",
       "      <th>17</th>\n",
       "      <td>Equipe de TI</td>\n",
       "    </tr>\n",
       "  </tbody>\n",
       "</table>\n",
       "</div>"
      ],
      "text/plain": [
       "                               Cargo\n",
       "0                Equipe de Segurança\n",
       "1                   Equipe de Vendas\n",
       "2                         Contadores\n",
       "3              Trabalhadores Braçais\n",
       "4                           Gerentes\n",
       "5                         Motoristas\n",
       "6                   Equipe Principal\n",
       "7       Equipe Técnica Especializada\n",
       "8                  Equipe de Limpeza\n",
       "9          Equipe de Serviço Privado\n",
       "10                 Equipe de Cozinha\n",
       "11  Trabalhadores Não Especializados\n",
       "12                     Equipe Médica\n",
       "13                       Secretários\n",
       "14                Garçons/Bartenders\n",
       "15                      Equipe de RH\n",
       "16             Corretores de Imóveis\n",
       "17                      Equipe de TI"
      ]
     },
     "execution_count": 20,
     "metadata": {},
     "output_type": "execute_result"
    }
   ],
   "source": [
    "# Observando os valores únicos de Cargo\n",
    "unique_values = {col: df_categoricas[col].unique() for col in df_categoricas.columns if col == 'Cargo'}\n",
    "unique_values_df = pd.DataFrame(dict([(k, pd.Series(v)) for k, v in unique_values.items()]))\n",
    "unique_values_df"
   ]
  },
  {
   "cell_type": "markdown",
   "metadata": {},
   "source": [
    "Podemos afirmar seguramente que as variáveis como gênero e estado civil são nominais.\n",
    "A princípio, poderíamos afirmar que o tipo de moradia também é nominal, porém, ao observarmos os dados, concluímos que existe uma hierarquia entre os valores únicos, dado que viver com os pais supõe uma pior condição financeira do que ter o próprio apartamento. Mas, ainda não sabemos os detalhes dessa hierarquia, e algumas confusões podem ocorrer. Então, consultei o time de governança de dados e eles me entregaram um dicionário que explica os diferentes valores únicos dessas variáveis categóricas, vamos observá-la para adquirirmos mais informações dos dados, e assim realizarmos uma coerente transformação dessas variáveis ordinais:"
   ]
  },
  {
   "cell_type": "markdown",
   "metadata": {},
   "source": [
    "#### Dicionário de Dados - Variáveis Categóricas Ordinais\n"
   ]
  },
  {
   "cell_type": "markdown",
   "metadata": {},
   "source": [
    "**Tipo_Renda**\n",
    "Fonte principal de renda do solicitante\n",
    "- **Trabalhador CLT**: Empregado com carteira assinada\n",
    "- **Associado Comercial**: Profissional associado a atividades comerciais\n",
    "- **Servidor Público**: Funcionário público\n",
    "- **Estudante**: Estudante sem renda ou com renda parcial\n",
    "- **Aposentado**: Pessoa que recebe aposentadoria\n",
    "\n",
    "**Nivel_Educacao**\n",
    "Nível mais alto de educação alcançado\n",
    "- **Ensino Médio / Técnico**: Completou ensino médio ou curso técnico\n",
    "- **Ensino Superior**: Possui graduação completa\n",
    "- **Superior Incompleto**: Iniciou mas não concluiu graduação\n",
    "- **Ensino Fundamental**: Completou apenas o ensino fundamental\n",
    "- **Pós-graduação**: Possui especialização, mestrado ou doutorado\n",
    "\n",
    "**Tipo_Moradia**\n",
    "Tipo de residência atual\n",
    "- **Casa/Apartamento**: Imóvel próprio (casa ou apartamento, indica maior renda)\n",
    "- **Apartamento Alugado**: Mora de aluguel\n",
    "- **Apartamento Municipal**: Moradia fornecida pelo município\n",
    "- **Com os Pais**: Reside na casa dos pais\n",
    "- **Apartamento Cooperativa**: Imóvel em cooperativa habitacional\n",
    "- **Apartamento Funcional**: Moradia fornecida pelo empregador"
   ]
  },
  {
   "cell_type": "code",
   "execution_count": 21,
   "metadata": {},
   "outputs": [],
   "source": [
    "# A partir desse dicionário, vamos usar o label enconding para transformar essas variáveis categóricas em numéricas\n",
    "# Dicionário de tradução para label encoding\n",
    "# Dicionários para Label Encoding baseados na hierarquia lógica das categorias\n",
    "\n",
    "# Tipo de Renda (baseado na estabilidade/garantia de renda)\n",
    "tipo_renda_map = {\n",
    "    'Servidor Público': 5,    # Maior estabilidade\n",
    "    'Trabalhador CLT': 4,     # Boa estabilidade\n",
    "    'Associado Comercial': 3, # Estabilidade média\n",
    "    'Aposentado': 2,          # Renda estável mas limitada\n",
    "    'Estudante': 1            # Menor estabilidade financeira\n",
    "}\n",
    "\n",
    "# Nível de Educação (baseado no nível acadêmico)\n",
    "nivel_educacao_map = {\n",
    "    'Pós-graduação': 5,           # Maior nível\n",
    "    'Ensino Superior': 4,         # Graduação completa\n",
    "    'Superior Incompleto': 3,     # Alguma educação superior\n",
    "    'Ensino Médio / Técnico': 2,  # Educação secundária\n",
    "    'Ensino Fundamental': 1       # Educação básica\n",
    "}\n",
    "\n",
    "# Tipo de Moradia (baseado na independência/estabilidade habitacional)\n",
    "tipo_moradia_map = {\n",
    "    'Casa/Apartamento': 6,         # Próprio - maior estabilidade\n",
    "    'Apartamento Cooperativa': 5,  # Propriedade compartilhada\n",
    "    'Apartamento Funcional': 4,    # Ligado ao emprego\n",
    "    'Apartamento Alugado': 3,      # Independente mas com custo mensal\n",
    "    'Apartamento Municipal': 2,    # Dependente de programa social\n",
    "    'Com os Pais': 1               # Dependente da família\n",
    "}\n",
    "\n",
    "# Cargos baseado no nível de especialização/responsabilidade\n",
    "cargo_map = {\n",
    "    'Gerentes': 18,                        # Alta gestão\n",
    "    'Equipe de TI': 17,                    # Alta especialização técnica\n",
    "    'Equipe Médica': 16,                   # Alta especialização\n",
    "    'Equipe Técnica Especializada': 15,    # Especialização técnica\n",
    "    'Contadores': 14,                      # Especialização financeira\n",
    "    'Equipe de RH': 13,                    # Especialização em gestão\n",
    "    'Equipe Principal': 12,                # Core business\n",
    "    'Corretores de Imóveis': 11,           # Vendas especializadas\n",
    "    'Equipe de Vendas': 10,                # Vendas gerais\n",
    "    'Secretários': 9,                      # Administrativo\n",
    "    'Equipe de Segurança': 8,              # Serviço especializado\n",
    "    'Equipe de Serviço Privado': 7,        # Serviço qualificado\n",
    "    'Motoristas': 6,                       # Serviço técnico\n",
    "    'Equipe de Cozinha': 5,                # Serviço específico\n",
    "    'Garçons/Bartenders': 4,               # Serviço de atendimento\n",
    "    'Equipe de Limpeza': 3,                # Serviço básico\n",
    "    'Trabalhadores Braçais': 2,            # Trabalho manual\n",
    "    'Trabalhadores Não Especializados': 1  # Sem especialização\n",
    "}\n",
    "\n",
    "\n",
    "# Aplicar o Label Encoding\n",
    "df['Tipo_Renda_Encoded'] = df['Tipo_Renda'].map(tipo_renda_map)\n",
    "df['Nivel_Educacao_Encoded'] = df['Nivel_Educacao'].map(nivel_educacao_map)\n",
    "df['Tipo_Moradia_Encoded'] = df['Tipo_Moradia'].map(tipo_moradia_map)\n",
    "df['Cargo_Encoded'] = df['Cargo'].map(cargo_map)"
   ]
  },
  {
   "cell_type": "code",
   "execution_count": 22,
   "metadata": {},
   "outputs": [],
   "source": [
    "# Como não será mais necessário as variáveis categóricas sem encoding, vamos removê-las\n",
    "df = df.drop(columns=['Tipo_Renda', 'Nivel_Educacao', 'Tipo_Moradia', 'Cargo'])"
   ]
  },
  {
   "cell_type": "markdown",
   "metadata": {},
   "source": [
    "Agora, a única variável categórica restante para tratamento é a de ID: como ela não possui informação intrínseca e útil para o futuro modelo, vamos remover essa coluna"
   ]
  },
  {
   "cell_type": "code",
   "execution_count": 23,
   "metadata": {},
   "outputs": [],
   "source": [
    "# Dropando coluna de ID\n",
    "df = df.drop(columns='ID_Solicitante')"
   ]
  },
  {
   "cell_type": "markdown",
   "metadata": {},
   "source": [
    "### 1.3.5 Tipagem dos dados - Transformando tudo em Variáveis numéricas"
   ]
  },
  {
   "cell_type": "code",
   "execution_count": 24,
   "metadata": {},
   "outputs": [
    {
     "data": {
      "text/plain": [
       "Possui_Carro                  int64\n",
       "Possui_Imovel                 int64\n",
       "Total_Filhos                  int64\n",
       "Renda_Total                   int64\n",
       "Possui_Celular                int64\n",
       "Possui_Tel_Comercial          int64\n",
       "Possui_Tel_Fixo               int64\n",
       "Possui_Email                  int64\n",
       "Total_Membros_Familia         int64\n",
       "Idade_Solicitante             int64\n",
       "Anos_Trabalho                 int64\n",
       "Total_Dividas_Ruins           int64\n",
       "Total_Dividas_Boas            int64\n",
       "Status                        int64\n",
       "Genero_Solicitante_M          int64\n",
       "Estado_Civil_Separado         int64\n",
       "Estado_Civil_Solteiro         int64\n",
       "Estado_Civil_União Estável    int64\n",
       "Estado_Civil_Viúvo            int64\n",
       "Tipo_Renda_Encoded            int64\n",
       "Nivel_Educacao_Encoded        int64\n",
       "Tipo_Moradia_Encoded          int64\n",
       "Cargo_Encoded                 int64\n",
       "dtype: object"
      ]
     },
     "execution_count": 24,
     "metadata": {},
     "output_type": "execute_result"
    }
   ],
   "source": [
    "# Convertendo tudo para int64\n",
    "df = df.astype('int64')\n",
    "df.dtypes"
   ]
  },
  {
   "cell_type": "markdown",
   "metadata": {},
   "source": [
    "# 2. Seleção de Variáveis"
   ]
  },
  {
   "cell_type": "code",
   "execution_count": 25,
   "metadata": {},
   "outputs": [],
   "source": [
    "# Separar as variáveis independentes da variável dependente\n",
    "X = df.drop(columns='Status')\n",
    "y = df['Status']\n",
    "\n",
    "# Instanciar o modelo\n",
    "rf = RandomForestClassifier()\n",
    "\n",
    "# Treinar o modelo\n",
    "rf.fit(X, y)\n",
    "\n",
    "# Extrair a importância das features\n",
    "importances = rf.feature_importances_   # Quanto maior o valor, mais importante a variável"
   ]
  },
  {
   "cell_type": "code",
   "execution_count": 26,
   "metadata": {},
   "outputs": [
    {
     "data": {
      "image/png": "[encoded data removed]",
      "text/plain": [
       "<Figure size 1500x700 with 1 Axes>"
      ]
     },
     "metadata": {},
     "output_type": "display_data"
    }
   ],
   "source": [
    "# Plotando a importância das features\n",
    "\n",
    "# Criar um DataFrame com as importâncias\n",
    "importances_df = pd.DataFrame({\n",
    "    'Feature': X.columns,\n",
    "    'Importance': importances\n",
    "})\n",
    "\n",
    "# Ordenar o DataFrame\n",
    "importances_df = importances_df.sort_values(by='Importance', ascending=False)\n",
    "\n",
    "# Plotar\n",
    "plt.figure(figsize=(15,7))\n",
    "sns.barplot(data=importances_df, x='Importance', y='Feature')\n",
    "plt.title('Importância das Features')\n",
    "plt.show()\n"
   ]
  },
  {
   "cell_type": "code",
   "execution_count": 27,
   "metadata": {},
   "outputs": [
    {
     "name": "stdout",
     "output_type": "stream",
     "text": [
      "Variáveis selecionadas:\n",
      "['Total_Dividas_Ruins', 'Total_Dividas_Boas', 'Renda_Total', 'Idade_Solicitante', 'Anos_Trabalho', 'Cargo_Encoded', 'Tipo_Renda_Encoded', 'Total_Membros_Familia', 'Total_Filhos', 'Possui_Carro', 'Nivel_Educacao_Encoded', 'Genero_Solicitante_M', 'Possui_Tel_Fixo']\n"
     ]
    }
   ],
   "source": [
    "# Definindo um limite de importância\n",
    "limite_importancia = 0.01\n",
    "\n",
    "# Selecionando as variáveis com importância maior que o limite\n",
    "variaveis_selecionadas = importances_df[importances_df['Importance'] > limite_importancia]['Feature'].tolist()\n",
    "\n",
    "# Filtrando o DataFrame X para manter apenas as variáveis selecionadas\n",
    "X_selecionado = X[variaveis_selecionadas]\n",
    "\n",
    "# Exibindo as variáveis selecionadas\n",
    "print(\"Variáveis selecionadas:\")\n",
    "print(variaveis_selecionadas)"
   ]
  },
  {
   "cell_type": "markdown",
   "metadata": {},
   "source": [
    "# 3. Modelagem"
   ]
  },
  {
   "cell_type": "markdown",
   "metadata": {},
   "source": [
    "## 3.1 Balanceamento dos dados"
   ]
  },
  {
   "cell_type": "code",
   "execution_count": 28,
   "metadata": {},
   "outputs": [
    {
     "data": {
      "text/plain": [
       "Status\n",
       "1    25007\n",
       "0      121\n",
       "Name: count, dtype: int64"
      ]
     },
     "execution_count": 28,
     "metadata": {},
     "output_type": "execute_result"
    }
   ],
   "source": [
    "# Calculando a quantidade de registros por classe de resposta\n",
    "y.value_counts()"
   ]
  },
  {
   "cell_type": "markdown",
   "metadata": {},
   "source": [
    "Claramente os dados são desbalanceados, com uma proporção de 99,5% dos regsitros pertencentes à classe 1 (aprovação do crédito).\n",
    "\n",
    "Resolveremos esse problema com undersampling:"
   ]
  },
  {
   "cell_type": "code",
   "execution_count": 29,
   "metadata": {},
   "outputs": [
    {
     "data": {
      "text/plain": [
       "Status\n",
       "0    121\n",
       "1    121\n",
       "Name: count, dtype: int64"
      ]
     },
     "execution_count": 29,
     "metadata": {},
     "output_type": "execute_result"
    }
   ],
   "source": [
    "# Instanciar o RandomUnderSampler\n",
    "rus = RandomUnderSampler(random_state=42)\n",
    "\n",
    "# Aplicar o RandomUnderSampler\n",
    "X_res, y_res = rus.fit_resample(X_selecionado, y)\n",
    "\n",
    "# Verificar o balanceamento das classes\n",
    "y_res.value_counts()"
   ]
  },
  {
   "cell_type": "markdown",
   "metadata": {},
   "source": [
    "## 3.2 Ajuste do modelo"
   ]
  },
  {
   "cell_type": "code",
   "execution_count": 30,
   "metadata": {},
   "outputs": [
    {
     "name": "stdout",
     "output_type": "stream",
     "text": [
      "X_train shape: (193, 13)\n",
      "X_test shape: (49, 13)\n",
      "y_train shape: (193,)\n",
      "y_test shape: (49,)\n"
     ]
    }
   ],
   "source": [
    "# Dividir os dados em treino e teste\n",
    "X_train, X_test, y_train, y_test = train_test_split(X_res, y_res, test_size=0.2, random_state=42)\n",
    "\n",
    "# Verificar o shape dos dados\n",
    "print(\"X_train shape:\", X_train.shape)\n",
    "print(\"X_test shape:\", X_test.shape)\n",
    "print(\"y_train shape:\", y_train.shape)\n",
    "print(\"y_test shape:\", y_test.shape)"
   ]
  },
  {
   "cell_type": "markdown",
   "metadata": {},
   "source": [
    "Importante: dado que a demanda explicitou a necessidade de um modelo interpretável para a avaliação do time de avaliadores bancários, decidimos criar uma árvore de decisão"
   ]
  },
  {
   "cell_type": "code",
   "execution_count": 31,
   "metadata": {},
   "outputs": [
    {
     "data": {
      "text/html": [
       "<style>#sk-container-id-1 {\n",
       "  /* Definition of color scheme common for light and dark mode */\n",
       "  --sklearn-color-text: black;\n",
       "  --sklearn-color-line: gray;\n",
       "  /* Definition of color scheme for unfitted estimators */\n",
       "  --sklearn-color-unfitted-level-0: #fff5e6;\n",
       "  --sklearn-color-unfitted-level-1: #f6e4d2;\n",
       "  --sklearn-color-unfitted-level-2: #ffe0b3;\n",
       "  --sklearn-color-unfitted-level-3: chocolate;\n",
       "  /* Definition of color scheme for fitted estimators */\n",
       "  --sklearn-color-fitted-level-0: #f0f8ff;\n",
       "  --sklearn-color-fitted-level-1: #d4ebff;\n",
       "  --sklearn-color-fitted-level-2: #b3dbfd;\n",
       "  --sklearn-color-fitted-level-3: cornflowerblue;\n",
       "\n",
       "  /* Specific color for light theme */\n",
       "  --sklearn-color-text-on-default-background: var(--sg-text-color, var(--theme-code-foreground, var(--jp-content-font-color1, black)));\n",
       "  --sklearn-color-background: var(--sg-background-color, var(--theme-background, var(--jp-layout-color0, white)));\n",
       "  --sklearn-color-border-box: var(--sg-text-color, var(--theme-code-foreground, var(--jp-content-font-color1, black)));\n",
       "  --sklearn-color-icon: #696969;\n",
       "\n",
       "  @media (prefers-color-scheme: dark) {\n",
       "    /* Redefinition of color scheme for dark theme */\n",
       "    --sklearn-color-text-on-default-background: var(--sg-text-color, var(--theme-code-foreground, var(--jp-content-font-color1, white)));\n",
       "    --sklearn-color-background: var(--sg-background-color, var(--theme-background, var(--jp-layout-color0, #111)));\n",
       "    --sklearn-color-border-box: var(--sg-text-color, var(--theme-code-foreground, var(--jp-content-font-color1, white)));\n",
       "    --sklearn-color-icon: #878787;\n",
       "  }\n",
       "}\n",
       "\n",
       "#sk-container-id-1 {\n",
       "  color: var(--sklearn-color-text);\n",
       "}\n",
       "\n",
       "#sk-container-id-1 pre {\n",
       "  padding: 0;\n",
       "}\n",
       "\n",
       "#sk-container-id-1 input.sk-hidden--visually {\n",
       "  border: 0;\n",
       "  clip: rect(1px 1px 1px 1px);\n",
       "  clip: rect(1px, 1px, 1px, 1px);\n",
       "  height: 1px;\n",
       "  margin: -1px;\n",
       "  overflow: hidden;\n",
       "  padding: 0;\n",
       "  position: absolute;\n",
       "  width: 1px;\n",
       "}\n",
       "\n",
       "#sk-container-id-1 div.sk-dashed-wrapped {\n",
       "  border: 1px dashed var(--sklearn-color-line);\n",
       "  margin: 0 0.4em 0.5em 0.4em;\n",
       "  box-sizing: border-box;\n",
       "  padding-bottom: 0.4em;\n",
       "  background-color: var(--sklearn-color-background);\n",
       "}\n",
       "\n",
       "#sk-container-id-1 div.sk-container {\n",
       "  /* jupyter's `normalize.less` sets `[hidden] { display: none; }`\n",
       "     but bootstrap.min.css set `[hidden] { display: none !important; }`\n",
       "     so we also need the `!important` here to be able to override the\n",
       "     default hidden behavior on the sphinx rendered scikit-learn.org.\n",
       "     See: https://github.com/scikit-learn/scikit-learn/issues/21755 */\n",
       "  display: inline-block !important;\n",
       "  position: relative;\n",
       "}\n",
       "\n",
       "#sk-container-id-1 div.sk-text-repr-fallback {\n",
       "  display: none;\n",
       "}\n",
       "\n",
       "div.sk-parallel-item,\n",
       "div.sk-serial,\n",
       "div.sk-item {\n",
       "  /* draw centered vertical line to link estimators */\n",
       "  background-image: linear-gradient(var(--sklearn-color-text-on-default-background), var(--sklearn-color-text-on-default-background));\n",
       "  background-size: 2px 100%;\n",
       "  background-repeat: no-repeat;\n",
       "  background-position: center center;\n",
       "}\n",
       "\n",
       "/* Parallel-specific style estimator block */\n",
       "\n",
       "#sk-container-id-1 div.sk-parallel-item::after {\n",
       "  content: \"\";\n",
       "  width: 100%;\n",
       "  border-bottom: 2px solid var(--sklearn-color-text-on-default-background);\n",
       "  flex-grow: 1;\n",
       "}\n",
       "\n",
       "#sk-container-id-1 div.sk-parallel {\n",
       "  display: flex;\n",
       "  align-items: stretch;\n",
       "  justify-content: center;\n",
       "  background-color: var(--sklearn-color-background);\n",
       "  position: relative;\n",
       "}\n",
       "\n",
       "#sk-container-id-1 div.sk-parallel-item {\n",
       "  display: flex;\n",
       "  flex-direction: column;\n",
       "}\n",
       "\n",
       "#sk-container-id-1 div.sk-parallel-item:first-child::after {\n",
       "  align-self: flex-end;\n",
       "  width: 50%;\n",
       "}\n",
       "\n",
       "#sk-container-id-1 div.sk-parallel-item:last-child::after {\n",
       "  align-self: flex-start;\n",
       "  width: 50%;\n",
       "}\n",
       "\n",
       "#sk-container-id-1 div.sk-parallel-item:only-child::after {\n",
       "  width: 0;\n",
       "}\n",
       "\n",
       "/* Serial-specific style estimator block */\n",
       "\n",
       "#sk-container-id-1 div.sk-serial {\n",
       "  display: flex;\n",
       "  flex-direction: column;\n",
       "  align-items: center;\n",
       "  background-color: var(--sklearn-color-background);\n",
       "  padding-right: 1em;\n",
       "  padding-left: 1em;\n",
       "}\n",
       "\n",
       "\n",
       "/* Toggleable style: style used for estimator/Pipeline/ColumnTransformer box that is\n",
       "clickable and can be expanded/collapsed.\n",
       "- Pipeline and ColumnTransformer use this feature and define the default style\n",
       "- Estimators will overwrite some part of the style using the `sk-estimator` class\n",
       "*/\n",
       "\n",
       "/* Pipeline and ColumnTransformer style (default) */\n",
       "\n",
       "#sk-container-id-1 div.sk-toggleable {\n",
       "  /* Default theme specific background. It is overwritten whether we have a\n",
       "  specific estimator or a Pipeline/ColumnTransformer */\n",
       "  background-color: var(--sklearn-color-background);\n",
       "}\n",
       "\n",
       "/* Toggleable label */\n",
       "#sk-container-id-1 label.sk-toggleable__label {\n",
       "  cursor: pointer;\n",
       "  display: block;\n",
       "  width: 100%;\n",
       "  margin-bottom: 0;\n",
       "  padding: 0.5em;\n",
       "  box-sizing: border-box;\n",
       "  text-align: center;\n",
       "}\n",
       "\n",
       "#sk-container-id-1 label.sk-toggleable__label-arrow:before {\n",
       "  /* Arrow on the left of the label */\n",
       "  content: \"▸\";\n",
       "  float: left;\n",
       "  margin-right: 0.25em;\n",
       "  color: var(--sklearn-color-icon);\n",
       "}\n",
       "\n",
       "#sk-container-id-1 label.sk-toggleable__label-arrow:hover:before {\n",
       "  color: var(--sklearn-color-text);\n",
       "}\n",
       "\n",
       "/* Toggleable content - dropdown */\n",
       "\n",
       "#sk-container-id-1 div.sk-toggleable__content {\n",
       "  max-height: 0;\n",
       "  max-width: 0;\n",
       "  overflow: hidden;\n",
       "  text-align: left;\n",
       "  /* unfitted */\n",
       "  background-color: var(--sklearn-color-unfitted-level-0);\n",
       "}\n",
       "\n",
       "#sk-container-id-1 div.sk-toggleable__content.fitted {\n",
       "  /* fitted */\n",
       "  background-color: var(--sklearn-color-fitted-level-0);\n",
       "}\n",
       "\n",
       "#sk-container-id-1 div.sk-toggleable__content pre {\n",
       "  margin: 0.2em;\n",
       "  border-radius: 0.25em;\n",
       "  color: var(--sklearn-color-text);\n",
       "  /* unfitted */\n",
       "  background-color: var(--sklearn-color-unfitted-level-0);\n",
       "}\n",
       "\n",
       "#sk-container-id-1 div.sk-toggleable__content.fitted pre {\n",
       "  /* unfitted */\n",
       "  background-color: var(--sklearn-color-fitted-level-0);\n",
       "}\n",
       "\n",
       "#sk-container-id-1 input.sk-toggleable__control:checked~div.sk-toggleable__content {\n",
       "  /* Expand drop-down */\n",
       "  max-height: 200px;\n",
       "  max-width: 100%;\n",
       "  overflow: auto;\n",
       "}\n",
       "\n",
       "#sk-container-id-1 input.sk-toggleable__control:checked~label.sk-toggleable__label-arrow:before {\n",
       "  content: \"▾\";\n",
       "}\n",
       "\n",
       "/* Pipeline/ColumnTransformer-specific style */\n",
       "\n",
       "#sk-container-id-1 div.sk-label input.sk-toggleable__control:checked~label.sk-toggleable__label {\n",
       "  color: var(--sklearn-color-text);\n",
       "  background-color: var(--sklearn-color-unfitted-level-2);\n",
       "}\n",
       "\n",
       "#sk-container-id-1 div.sk-label.fitted input.sk-toggleable__control:checked~label.sk-toggleable__label {\n",
       "  background-color: var(--sklearn-color-fitted-level-2);\n",
       "}\n",
       "\n",
       "/* Estimator-specific style */\n",
       "\n",
       "/* Colorize estimator box */\n",
       "#sk-container-id-1 div.sk-estimator input.sk-toggleable__control:checked~label.sk-toggleable__label {\n",
       "  /* unfitted */\n",
       "  background-color: var(--sklearn-color-unfitted-level-2);\n",
       "}\n",
       "\n",
       "#sk-container-id-1 div.sk-estimator.fitted input.sk-toggleable__control:checked~label.sk-toggleable__label {\n",
       "  /* fitted */\n",
       "  background-color: var(--sklearn-color-fitted-level-2);\n",
       "}\n",
       "\n",
       "#sk-container-id-1 div.sk-label label.sk-toggleable__label,\n",
       "#sk-container-id-1 div.sk-label label {\n",
       "  /* The background is the default theme color */\n",
       "  color: var(--sklearn-color-text-on-default-background);\n",
       "}\n",
       "\n",
       "/* On hover, darken the color of the background */\n",
       "#sk-container-id-1 div.sk-label:hover label.sk-toggleable__label {\n",
       "  color: var(--sklearn-color-text);\n",
       "  background-color: var(--sklearn-color-unfitted-level-2);\n",
       "}\n",
       "\n",
       "/* Label box, darken color on hover, fitted */\n",
       "#sk-container-id-1 div.sk-label.fitted:hover label.sk-toggleable__label.fitted {\n",
       "  color: var(--sklearn-color-text);\n",
       "  background-color: var(--sklearn-color-fitted-level-2);\n",
       "}\n",
       "\n",
       "/* Estimator label */\n",
       "\n",
       "#sk-container-id-1 div.sk-label label {\n",
       "  font-family: monospace;\n",
       "  font-weight: bold;\n",
       "  display: inline-block;\n",
       "  line-height: 1.2em;\n",
       "}\n",
       "\n",
       "#sk-container-id-1 div.sk-label-container {\n",
       "  text-align: center;\n",
       "}\n",
       "\n",
       "/* Estimator-specific */\n",
       "#sk-container-id-1 div.sk-estimator {\n",
       "  font-family: monospace;\n",
       "  border: 1px dotted var(--sklearn-color-border-box);\n",
       "  border-radius: 0.25em;\n",
       "  box-sizing: border-box;\n",
       "  margin-bottom: 0.5em;\n",
       "  /* unfitted */\n",
       "  background-color: var(--sklearn-color-unfitted-level-0);\n",
       "}\n",
       "\n",
       "#sk-container-id-1 div.sk-estimator.fitted {\n",
       "  /* fitted */\n",
       "  background-color: var(--sklearn-color-fitted-level-0);\n",
       "}\n",
       "\n",
       "/* on hover */\n",
       "#sk-container-id-1 div.sk-estimator:hover {\n",
       "  /* unfitted */\n",
       "  background-color: var(--sklearn-color-unfitted-level-2);\n",
       "}\n",
       "\n",
       "#sk-container-id-1 div.sk-estimator.fitted:hover {\n",
       "  /* fitted */\n",
       "  background-color: var(--sklearn-color-fitted-level-2);\n",
       "}\n",
       "\n",
       "/* Specification for estimator info (e.g. \"i\" and \"?\") */\n",
       "\n",
       "/* Common style for \"i\" and \"?\" */\n",
       "\n",
       ".sk-estimator-doc-link,\n",
       "a:link.sk-estimator-doc-link,\n",
       "a:visited.sk-estimator-doc-link {\n",
       "  float: right;\n",
       "  font-size: smaller;\n",
       "  line-height: 1em;\n",
       "  font-family: monospace;\n",
       "  background-color: var(--sklearn-color-background);\n",
       "  border-radius: 1em;\n",
       "  height: 1em;\n",
       "  width: 1em;\n",
       "  text-decoration: none !important;\n",
       "  margin-left: 1ex;\n",
       "  /* unfitted */\n",
       "  border: var(--sklearn-color-unfitted-level-1) 1pt solid;\n",
       "  color: var(--sklearn-color-unfitted-level-1);\n",
       "}\n",
       "\n",
       ".sk-estimator-doc-link.fitted,\n",
       "a:link.sk-estimator-doc-link.fitted,\n",
       "a:visited.sk-estimator-doc-link.fitted {\n",
       "  /* fitted */\n",
       "  border: var(--sklearn-color-fitted-level-1) 1pt solid;\n",
       "  color: var(--sklearn-color-fitted-level-1);\n",
       "}\n",
       "\n",
       "/* On hover */\n",
       "div.sk-estimator:hover .sk-estimator-doc-link:hover,\n",
       ".sk-estimator-doc-link:hover,\n",
       "div.sk-label-container:hover .sk-estimator-doc-link:hover,\n",
       ".sk-estimator-doc-link:hover {\n",
       "  /* unfitted */\n",
       "  background-color: var(--sklearn-color-unfitted-level-3);\n",
       "  color: var(--sklearn-color-background);\n",
       "  text-decoration: none;\n",
       "}\n",
       "\n",
       "div.sk-estimator.fitted:hover .sk-estimator-doc-link.fitted:hover,\n",
       ".sk-estimator-doc-link.fitted:hover,\n",
       "div.sk-label-container:hover .sk-estimator-doc-link.fitted:hover,\n",
       ".sk-estimator-doc-link.fitted:hover {\n",
       "  /* fitted */\n",
       "  background-color: var(--sklearn-color-fitted-level-3);\n",
       "  color: var(--sklearn-color-background);\n",
       "  text-decoration: none;\n",
       "}\n",
       "\n",
       "/* Span, style for the box shown on hovering the info icon */\n",
       ".sk-estimator-doc-link span {\n",
       "  display: none;\n",
       "  z-index: 9999;\n",
       "  position: relative;\n",
       "  font-weight: normal;\n",
       "  right: .2ex;\n",
       "  padding: .5ex;\n",
       "  margin: .5ex;\n",
       "  width: min-content;\n",
       "  min-width: 20ex;\n",
       "  max-width: 50ex;\n",
       "  color: var(--sklearn-color-text);\n",
       "  box-shadow: 2pt 2pt 4pt #999;\n",
       "  /* unfitted */\n",
       "  background: var(--sklearn-color-unfitted-level-0);\n",
       "  border: .5pt solid var(--sklearn-color-unfitted-level-3);\n",
       "}\n",
       "\n",
       ".sk-estimator-doc-link.fitted span {\n",
       "  /* fitted */\n",
       "  background: var(--sklearn-color-fitted-level-0);\n",
       "  border: var(--sklearn-color-fitted-level-3);\n",
       "}\n",
       "\n",
       ".sk-estimator-doc-link:hover span {\n",
       "  display: block;\n",
       "}\n",
       "\n",
       "/* \"?\"-specific style due to the `<a>` HTML tag */\n",
       "\n",
       "#sk-container-id-1 a.estimator_doc_link {\n",
       "  float: right;\n",
       "  font-size: 1rem;\n",
       "  line-height: 1em;\n",
       "  font-family: monospace;\n",
       "  background-color: var(--sklearn-color-background);\n",
       "  border-radius: 1rem;\n",
       "  height: 1rem;\n",
       "  width: 1rem;\n",
       "  text-decoration: none;\n",
       "  /* unfitted */\n",
       "  color: var(--sklearn-color-unfitted-level-1);\n",
       "  border: var(--sklearn-color-unfitted-level-1) 1pt solid;\n",
       "}\n",
       "\n",
       "#sk-container-id-1 a.estimator_doc_link.fitted {\n",
       "  /* fitted */\n",
       "  border: var(--sklearn-color-fitted-level-1) 1pt solid;\n",
       "  color: var(--sklearn-color-fitted-level-1);\n",
       "}\n",
       "\n",
       "/* On hover */\n",
       "#sk-container-id-1 a.estimator_doc_link:hover {\n",
       "  /* unfitted */\n",
       "  background-color: var(--sklearn-color-unfitted-level-3);\n",
       "  color: var(--sklearn-color-background);\n",
       "  text-decoration: none;\n",
       "}\n",
       "\n",
       "#sk-container-id-1 a.estimator_doc_link.fitted:hover {\n",
       "  /* fitted */\n",
       "  background-color: var(--sklearn-color-fitted-level-3);\n",
       "}\n",
       "</style><div id=\"sk-container-id-1\" class=\"sk-top-container\"><div class=\"sk-text-repr-fallback\"><pre>DecisionTreeClassifier(random_state=42)</pre><b>In a Jupyter environment, please rerun this cell to show the HTML representation or trust the notebook. <br />On GitHub, the HTML representation is unable to render, please try loading this page with nbviewer.org.</b></div><div class=\"sk-container\" hidden><div class=\"sk-item\"><div class=\"sk-estimator fitted sk-toggleable\"><input class=\"sk-toggleable__control sk-hidden--visually\" id=\"sk-estimator-id-1\" type=\"checkbox\" checked><label for=\"sk-estimator-id-1\" class=\"sk-toggleable__label fitted sk-toggleable__label-arrow fitted\">&nbsp;&nbsp;DecisionTreeClassifier<a class=\"sk-estimator-doc-link fitted\" rel=\"noreferrer\" target=\"_blank\" href=\"https://scikit-learn.org/1.4/modules/generated/sklearn.tree.DecisionTreeClassifier.html\">?<span>Documentation for DecisionTreeClassifier</span></a><span class=\"sk-estimator-doc-link fitted\">i<span>Fitted</span></span></label><div class=\"sk-toggleable__content fitted\"><pre>DecisionTreeClassifier(random_state=42)</pre></div> </div></div></div></div>"
      ],
      "text/plain": [
       "DecisionTreeClassifier(random_state=42)"
      ]
     },
     "execution_count": 31,
     "metadata": {},
     "output_type": "execute_result"
    }
   ],
   "source": [
    "# Instanciar o modelo\n",
    "dt = DecisionTreeClassifier(random_state=42)\n",
    "\n",
    "# Treinar o modelo  \n",
    "dt.fit(X_train, y_train)"
   ]
  },
  {
   "cell_type": "markdown",
   "metadata": {},
   "source": [
    "## 3.3 Avaliação do modelo"
   ]
  },
  {
   "cell_type": "markdown",
   "metadata": {},
   "source": [
    "Dado que o modelo de aprovação de crédito tem como objetivo principal detectar indivíduos a serem rejeitados, vamos usar como métrica principal a Precisão, pois devemos nos atentar aos resultados de Falsos Positivos (aqueles indivíduos classificados como aprovados - 1 - mas na verdade são rejeitados - 0)"
   ]
  },
  {
   "cell_type": "markdown",
   "metadata": {},
   "source": [
    "Precisão = $\\frac{Verdadeiros\\ Positivos}{Verdadeiros\\ Positivos + Falsos\\ Positivos}$"
   ]
  },
  {
   "cell_type": "code",
   "execution_count": 35,
   "metadata": {},
   "outputs": [
    {
     "name": "stdout",
     "output_type": "stream",
     "text": [
      "Precisão: 0.98\n"
     ]
    }
   ],
   "source": [
    "# Fazendo previsões\n",
    "y_pred = dt.predict(X_test)\n",
    "\n",
    "# Obtendo a Precisão\n",
    "accuracy = accuracy_score(y_test, y_pred)\n",
    "print(f\"Precisão: {accuracy:.2f}\") "
   ]
  },
  {
   "cell_type": "markdown",
   "metadata": {},
   "source": [
    "# 4. Conclusão"
   ]
  },
  {
   "cell_type": "markdown",
   "metadata": {},
   "source": [
    "- Cumprimos com os requisitos de interpretabilidade do modelo\n",
    "\n",
    "- Obtivemos um modelo com uma boa métrica de avaliação"
   ]
  }
 ],
 "metadata": {
  "kernelspec": {
   "display_name": "venv",
   "language": "python",
   "name": "python3"
  },
  "language_info": {
   "codemirror_mode": {
    "name": "ipython",
    "version": 3
   },
   "file_extension": ".py",
   "mimetype": "text/x-python",
   "name": "python",
   "nbconvert_exporter": "python",
   "pygments_lexer": "ipython3",
   "version": "3.12.3"
  }
 },
 "nbformat": 4,
 "nbformat_minor": 2
}
