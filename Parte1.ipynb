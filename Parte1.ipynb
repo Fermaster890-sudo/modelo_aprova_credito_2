{
 "cells": [
  {
   "cell_type": "markdown",
   "metadata": {},
   "source": [
    "# Projeto de Modelagem de Aprovação de Crédito: Um Case"
   ]
  },
  {
   "cell_type": "markdown",
   "metadata": {},
   "source": [
    "## Contextualização\n",
    "\n",
    "No início de 2023, o departamento de crédito do Banco Nacional de Finanças (BNF) enfrentava um desafio significativo. Com uma taxa de inadimplência crescente e um processo manual de análise que levava, em média, 3 dias úteis para aprovar ou rejeitar solicitações de crédito, era evidente que uma transformação digital se fazia necessária.\n",
    "\n",
    "Durante uma reunião trimestral de resultados, Maria Silva, Diretora de Crédito do BNF, apresentou números preocupantes:\n",
    "\n",
    "- Tempo médio de análise: 3 dias úteis\n",
    "- Taxa de inadimplência: 12% (2% acima do mercado)\n",
    "- Taxa de abandono de solicitações: 22% (clientes desistiam durante o processo)\n",
    "- Alta correlação entre demora para aprovação e abandono de solicitações\n",
    "- Custo operacional da análise manual: R$2,2 milhões/ano\n",
    "\n",
    "\"Precisamos modernizar nosso processo de análise de crédito. Acredito que a ciência de dados possa nos ajudar a tomar decisões mais precisas e ágeis\", afirmou Maria durante a apresentação.\n",
    "\n",
    "Foi assim que, na semana seguinte, nosso time de Data Science recebeu um e-mail com o assunto: \"URGENTE: Projeto Estratégico - Modelo de Aprovação de Crédito Automatizado\".\n",
    "\n",
    "O desafio estava lançado: desenvolver um modelo preditivo capaz de aprovar ou rejeitar solicitações de crédito de forma automática, reduzindo o tempo de análise para segundos, diminuindo a taxa de inadimplência/abandono e, consequentemente, aumentando a rentabilidade da carteira de crédito do banco.\n",
    "\n",
    "Nossa jornada começou com a coleta e análise de dados históricos de aprovações e rejeições de crédito do último ano. Este notebook documenta o processo de desenvolvimento, avaliação e implementação do modelo que transformaria o departamento de crédito do BNF.\n",
    "\n",
    "## Objetivos do Projeto\n",
    "\n",
    "1. Reduzir o tempo de análise de crédito de 3 dias para menos de 1 minuto\n",
    "2. Diminuir a taxa de inadimplência em pelo menos 3 pontos percentuais\n",
    "3. Aumentar a aprovação de bons pagadores em 15%\n",
    "4. Criar um modelo explicável/interpretável que possa ser auditado pelos reguladores bancários\n",
    "\n",
    "Vamos iniciar esta jornada explorando os dados disponíveis e entendendo os padrões que podem nos ajudar a prever com precisão quais clientes têm maior probabilidade de honrar seus compromissos financeiros.\n"
   ]
  },
  {
   "cell_type": "markdown",
   "metadata": {},
   "source": [
    "# 1. Explorando e Tratando os Dados"
   ]
  },
  {
   "cell_type": "markdown",
   "metadata": {},
   "source": [
    "## 1.1 Importando Bibliotecas"
   ]
  },
  {
   "cell_type": "code",
   "execution_count": 12,
   "metadata": {},
   "outputs": [
    {
     "name": "stdout",
     "output_type": "stream",
     "text": [
      "Requirement already satisfied: pandas in c:\\users\\user\\desktop\\modelo_aprova_credito_2\\venv\\lib\\site-packages (2.2.3)\n",
      "Requirement already satisfied: numpy>=1.26.0 in c:\\users\\user\\desktop\\modelo_aprova_credito_2\\venv\\lib\\site-packages (from pandas) (2.2.3)\n",
      "Requirement already satisfied: python-dateutil>=2.8.2 in c:\\users\\user\\desktop\\modelo_aprova_credito_2\\venv\\lib\\site-packages (from pandas) (2.9.0.post0)\n",
      "Requirement already satisfied: pytz>=2020.1 in c:\\users\\user\\desktop\\modelo_aprova_credito_2\\venv\\lib\\site-packages (from pandas) (2025.1)\n",
      "Requirement already satisfied: tzdata>=2022.7 in c:\\users\\user\\desktop\\modelo_aprova_credito_2\\venv\\lib\\site-packages (from pandas) (2025.1)\n",
      "Requirement already satisfied: six>=1.5 in c:\\users\\user\\desktop\\modelo_aprova_credito_2\\venv\\lib\\site-packages (from python-dateutil>=2.8.2->pandas) (1.17.0)\n"
     ]
    },
    {
     "name": "stderr",
     "output_type": "stream",
     "text": [
      "\n",
      "[notice] A new release of pip is available: 24.3.1 -> 25.0.1\n",
      "[notice] To update, run: python.exe -m pip install --upgrade pip\n"
     ]
    },
    {
     "name": "stdout",
     "output_type": "stream",
     "text": [
      "Collecting seaborn\n",
      "  Using cached seaborn-0.13.2-py3-none-any.whl.metadata (5.4 kB)\n",
      "Requirement already satisfied: numpy!=1.24.0,>=1.20 in c:\\users\\user\\desktop\\modelo_aprova_credito_2\\venv\\lib\\site-packages (from seaborn) (2.2.3)\n",
      "Requirement already satisfied: pandas>=1.2 in c:\\users\\user\\desktop\\modelo_aprova_credito_2\\venv\\lib\\site-packages (from seaborn) (2.2.3)\n",
      "Collecting matplotlib!=3.6.1,>=3.4 (from seaborn)\n",
      "  Using cached matplotlib-3.10.1-cp313-cp313-win_amd64.whl.metadata (11 kB)\n",
      "Collecting contourpy>=1.0.1 (from matplotlib!=3.6.1,>=3.4->seaborn)\n",
      "  Using cached contourpy-1.3.1-cp313-cp313-win_amd64.whl.metadata (5.4 kB)\n",
      "Collecting cycler>=0.10 (from matplotlib!=3.6.1,>=3.4->seaborn)\n",
      "  Using cached cycler-0.12.1-py3-none-any.whl.metadata (3.8 kB)\n",
      "Collecting fonttools>=4.22.0 (from matplotlib!=3.6.1,>=3.4->seaborn)\n",
      "  Using cached fonttools-4.56.0-cp313-cp313-win_amd64.whl.metadata (103 kB)\n",
      "Collecting kiwisolver>=1.3.1 (from matplotlib!=3.6.1,>=3.4->seaborn)\n",
      "  Using cached kiwisolver-1.4.8-cp313-cp313-win_amd64.whl.metadata (6.3 kB)\n",
      "Requirement already satisfied: packaging>=20.0 in c:\\users\\user\\desktop\\modelo_aprova_credito_2\\venv\\lib\\site-packages (from matplotlib!=3.6.1,>=3.4->seaborn) (24.2)\n",
      "Collecting pillow>=8 (from matplotlib!=3.6.1,>=3.4->seaborn)\n",
      "  Using cached pillow-11.1.0-cp313-cp313-win_amd64.whl.metadata (9.3 kB)\n",
      "Collecting pyparsing>=2.3.1 (from matplotlib!=3.6.1,>=3.4->seaborn)\n",
      "  Using cached pyparsing-3.2.1-py3-none-any.whl.metadata (5.0 kB)\n",
      "Requirement already satisfied: python-dateutil>=2.7 in c:\\users\\user\\desktop\\modelo_aprova_credito_2\\venv\\lib\\site-packages (from matplotlib!=3.6.1,>=3.4->seaborn) (2.9.0.post0)\n",
      "Requirement already satisfied: pytz>=2020.1 in c:\\users\\user\\desktop\\modelo_aprova_credito_2\\venv\\lib\\site-packages (from pandas>=1.2->seaborn) (2025.1)\n",
      "Requirement already satisfied: tzdata>=2022.7 in c:\\users\\user\\desktop\\modelo_aprova_credito_2\\venv\\lib\\site-packages (from pandas>=1.2->seaborn) (2025.1)\n",
      "Requirement already satisfied: six>=1.5 in c:\\users\\user\\desktop\\modelo_aprova_credito_2\\venv\\lib\\site-packages (from python-dateutil>=2.7->matplotlib!=3.6.1,>=3.4->seaborn) (1.17.0)\n",
      "Using cached seaborn-0.13.2-py3-none-any.whl (294 kB)\n",
      "Using cached matplotlib-3.10.1-cp313-cp313-win_amd64.whl (8.1 MB)\n",
      "Using cached contourpy-1.3.1-cp313-cp313-win_amd64.whl (220 kB)\n",
      "Using cached cycler-0.12.1-py3-none-any.whl (8.3 kB)\n",
      "Using cached fonttools-4.56.0-cp313-cp313-win_amd64.whl (2.2 MB)\n",
      "Using cached kiwisolver-1.4.8-cp313-cp313-win_amd64.whl (71 kB)\n",
      "Using cached pillow-11.1.0-cp313-cp313-win_amd64.whl (2.6 MB)\n",
      "Using cached pyparsing-3.2.1-py3-none-any.whl (107 kB)\n",
      "Installing collected packages: pyparsing, pillow, kiwisolver, fonttools, cycler, contourpy, matplotlib, seaborn\n",
      "Successfully installed contourpy-1.3.1 cycler-0.12.1 fonttools-4.56.0 kiwisolver-1.4.8 matplotlib-3.10.1 pillow-11.1.0 pyparsing-3.2.1 seaborn-0.13.2\n"
     ]
    },
    {
     "name": "stderr",
     "output_type": "stream",
     "text": [
      "\n",
      "[notice] A new release of pip is available: 24.3.1 -> 25.0.1\n",
      "[notice] To update, run: python.exe -m pip install --upgrade pip\n"
     ]
    }
   ],
   "source": [
    "! pip install pandas\n",
    "! pip install seaborn"
   ]
  },
  {
   "cell_type": "code",
   "execution_count": 13,
   "metadata": {},
   "outputs": [],
   "source": [
    "import pandas as pd\n",
    "import matplotlib.pyplot as plt\n",
    "import seaborn as sns"
   ]
  },
  {
   "cell_type": "markdown",
   "metadata": {},
   "source": [
    "## 1.2 Lendo dados e traduzindo para melhor compreensão"
   ]
  },
  {
   "cell_type": "code",
   "execution_count": 72,
   "metadata": {},
   "outputs": [],
   "source": [
    "df = pd.read_csv(\"Application_data.csv\")"
   ]
  },
  {
   "cell_type": "markdown",
   "metadata": {},
   "source": [
    "Vamos traduzir os dados, começando pelas colunas"
   ]
  },
  {
   "cell_type": "code",
   "execution_count": 73,
   "metadata": {},
   "outputs": [
    {
     "name": "stdout",
     "output_type": "stream",
     "text": [
      "Novas colunas traduzidas:\n",
      "Index(['ID_Solicitante', 'Genero_Solicitante', 'Possui_Carro', 'Possui_Imovel',\n",
      "       'Total_Filhos', 'Renda_Total', 'Tipo_Renda', 'Nivel_Educacao',\n",
      "       'Estado_Civil', 'Tipo_Moradia', 'Possui_Celular',\n",
      "       'Possui_Tel_Comercial', 'Possui_Tel_Fixo', 'Possui_Email', 'Cargo',\n",
      "       'Total_Membros_Familia', 'Idade_Solicitante', 'Anos_Trabalho',\n",
      "       'Total_Dividas_Ruins', 'Total_Dividas_Boas', 'Status'],\n",
      "      dtype='object')\n"
     ]
    }
   ],
   "source": [
    "# Mudando nomes das colunas\n",
    "# Dicionário de tradução das colunas\n",
    "traducao_colunas = {\n",
    "    'Applicant_ID': 'ID_Solicitante',\n",
    "    'Applicant_Gender': 'Genero_Solicitante',\n",
    "    'Owned_Car': 'Possui_Carro',\n",
    "    'Owned_Realty': 'Possui_Imovel',\n",
    "    'Total_Children': 'Total_Filhos',\n",
    "    'Total_Income': 'Renda_Total',\n",
    "    'Income_Type': 'Tipo_Renda',\n",
    "    'Education_Type': 'Nivel_Educacao',\n",
    "    'Family_Status': 'Estado_Civil',\n",
    "    'Housing_Type': 'Tipo_Moradia',\n",
    "    'Owned_Mobile_Phone': 'Possui_Celular',\n",
    "    'Owned_Work_Phone': 'Possui_Tel_Comercial',\n",
    "    'Owned_Phone': 'Possui_Tel_Fixo',\n",
    "    'Owned_Email': 'Possui_Email',\n",
    "    'Job_Title': 'Cargo',\n",
    "    'Total_Family_Members': 'Total_Membros_Familia',\n",
    "    'Applicant_Age': 'Idade_Solicitante',\n",
    "    'Years_of_Working': 'Anos_Trabalho',\n",
    "    'Total_Bad_Debt': 'Total_Dividas_Ruins',\n",
    "    'Total_Good_Debt': 'Total_Dividas_Boas',\n",
    "    'Status': 'Status'\n",
    "}\n",
    "\n",
    "# Renomear as colunas do DataFrame\n",
    "df = df.rename(columns=traducao_colunas)\n",
    "\n",
    "# Verificar as novas colunas\n",
    "print(\"Novas colunas traduzidas:\")\n",
    "print(df.columns)"
   ]
  },
  {
   "cell_type": "code",
   "execution_count": 74,
   "metadata": {},
   "outputs": [
    {
     "name": "stdout",
     "output_type": "stream",
     "text": [
      "Valores únicos após remoção dos espaços:\n",
      "\n",
      "Genero_Solicitante:\n",
      "['M' 'F']\n",
      "\n",
      "Tipo_Renda:\n",
      "['Working' 'Commercial associate' 'State servant' 'Student' 'Pensioner']\n",
      "\n",
      "Nivel_Educacao:\n",
      "['Secondary / secondary special' 'Higher education' 'Incomplete higher'\n",
      " 'Lower secondary' 'Academic degree']\n",
      "\n",
      "Estado_Civil:\n",
      "['Married' 'Single / not married' 'Civil marriage' 'Separated' 'Widow']\n",
      "\n",
      "Tipo_Moradia:\n",
      "['House / apartment' 'Rented apartment' 'Municipal apartment'\n",
      " 'With parents' 'Co-op apartment' 'Office apartment']\n",
      "\n",
      "Cargo:\n",
      "['Security staff' 'Sales staff' 'Accountants' 'Laborers' 'Managers'\n",
      " 'Drivers' 'Core staff' 'High skill tech staff' 'Cleaning staff'\n",
      " 'Private service staff' 'Cooking staff' 'Low-skill Laborers'\n",
      " 'Medicine staff' 'Secretaries' 'Waiters/barmen staff' 'HR staff'\n",
      " 'Realty agents' 'IT staff']\n"
     ]
    }
   ],
   "source": [
    "# Nesse caso, vamos remover os espaços em branco das variáveis categóricas\n",
    "# para que não haja confusão entre valores idênticos, mas com espaços diferentes\n",
    "# Exemplo: 'Masculino' e 'Masculino ' são tratados como valores diferentes\n",
    "# Remover espaços nas bordas das variáveis categóricas\n",
    "categorical_columns = ['Genero_Solicitante', 'Tipo_Renda', 'Nivel_Educacao', \n",
    "                      'Estado_Civil', 'Tipo_Moradia', 'Cargo']\n",
    "\n",
    "# Aplicar strip() em todas as colunas categóricas\n",
    "for col in categorical_columns:\n",
    "    df[col] = df[col].str.strip()\n",
    "\n",
    "# Verificar o resultado para uma coluna\n",
    "print(\"Valores únicos após remoção dos espaços:\")\n",
    "for col in categorical_columns:\n",
    "    print(f\"\\n{col}:\")\n",
    "    print(df[col].unique())"
   ]
  },
  {
   "cell_type": "code",
   "execution_count": 75,
   "metadata": {},
   "outputs": [
    {
     "data": {
      "text/plain": [
       "array(['Working', 'Commercial associate', 'State servant', 'Student',\n",
       "       'Pensioner'], dtype=object)"
      ]
     },
     "execution_count": 75,
     "metadata": {},
     "output_type": "execute_result"
    }
   ],
   "source": [
    "df['Tipo_Renda'].unique()"
   ]
  },
  {
   "cell_type": "code",
   "execution_count": 76,
   "metadata": {},
   "outputs": [
    {
     "name": "stdout",
     "output_type": "stream",
     "text": [
      "Valores únicos após tradução:\n",
      "\n",
      "Tipo_Renda:\n",
      "['Trabalhador CLT' 'Associado Comercial' 'Servidor Público' 'Estudante'\n",
      " 'Aposentado']\n",
      "\n",
      "Nivel_Educacao:\n",
      "['Ensino Médio / Técnico' 'Ensino Superior' 'Superior Incompleto'\n",
      " 'Ensino Fundamental' 'Pós-graduação']\n",
      "\n",
      "Estado_Civil:\n",
      "['Casado' 'Solteiro' 'União Estável' 'Separado' 'Viúvo']\n",
      "\n",
      "Tipo_Moradia:\n",
      "['Casa/Apartamento' 'Apartamento Alugado' 'Apartamento Municipal'\n",
      " 'Com os Pais' 'Apartamento Cooperativa' 'Apartamento Funcional']\n",
      "\n",
      "Cargo:\n",
      "['Equipe de Segurança' 'Equipe de Vendas' 'Contadores' 'Trabalhadores'\n",
      " 'Gerentes' 'Motoristas' 'Equipe Principal' 'Equipe Técnica Especializada'\n",
      " 'Equipe de Limpeza' 'Equipe de Serviço Privado' 'Equipe de Cozinha'\n",
      " 'Trabalhadores Não Especializados' 'Equipe Médica' 'Secretários'\n",
      " 'Garçons/Bartenders' 'Equipe de RH' 'Corretores de Imóveis'\n",
      " 'Equipe de TI']\n"
     ]
    }
   ],
   "source": [
    "# Vamos transformar os valores das colunas para português\n",
    "# Dicionário de traduções para variáveis categóricas\n",
    "traducoes = {\n",
    "    # Gênero\n",
    "    'M': 'M',\n",
    "    'F': 'F',\n",
    "    \n",
    "    # Tipo de Renda\n",
    "    'Working': 'Trabalhador CLT',\n",
    "    'Commercial associate': 'Associado Comercial',\n",
    "    'State servant': 'Servidor Público',\n",
    "    'Student': 'Estudante',\n",
    "    'Pensioner': 'Aposentado',\n",
    "    \n",
    "    # Educação\n",
    "    'Secondary / secondary special': 'Ensino Médio / Técnico',\n",
    "    'Higher education': 'Ensino Superior',\n",
    "    'Incomplete higher': 'Superior Incompleto',\n",
    "    'Lower secondary': 'Ensino Fundamental',\n",
    "    'Academic degree': 'Pós-graduação',\n",
    "    \n",
    "    # Estado Civil\n",
    "    'Married': 'Casado',\n",
    "    'Single / not married': 'Solteiro',\n",
    "    'Civil marriage': 'União Estável',\n",
    "    'Separated': 'Separado',\n",
    "    'Widow': 'Viúvo',\n",
    "    \n",
    "    # Tipo de Moradia\n",
    "    'House / apartment': 'Casa/Apartamento',\n",
    "    'Rented apartment': 'Apartamento Alugado',\n",
    "    'Municipal apartment': 'Apartamento Municipal',\n",
    "    'With parents': 'Com os Pais',\n",
    "    'Co-op apartment': 'Apartamento Cooperativa',\n",
    "    'Office apartment': 'Apartamento Funcional',\n",
    "    \n",
    "    # Cargos\n",
    "    'Security staff': 'Equipe de Segurança',\n",
    "    'Sales staff': 'Equipe de Vendas',\n",
    "    'Accountants': 'Contadores',\n",
    "    'Laborers': 'Trabalhadores',\n",
    "    'Managers': 'Gerentes',\n",
    "    'Drivers': 'Motoristas',\n",
    "    'Core staff': 'Equipe Principal',\n",
    "    'High skill tech staff': 'Equipe Técnica Especializada',\n",
    "    'Cleaning staff': 'Equipe de Limpeza',\n",
    "    'Private service staff': 'Equipe de Serviço Privado',\n",
    "    'Cooking staff': 'Equipe de Cozinha',\n",
    "    'Low-skill Laborers': 'Trabalhadores Não Especializados',\n",
    "    'Medicine staff': 'Equipe Médica',\n",
    "    'Secretaries': 'Secretários',\n",
    "    'Waiters/barmen staff': 'Garçons/Bartenders',\n",
    "    'HR staff': 'Equipe de RH',\n",
    "    'Realty agents': 'Corretores de Imóveis',\n",
    "    'IT staff': 'Equipe de TI'\n",
    "}\n",
    "\n",
    "# Aplicar traduções\n",
    "colunas_categoricas = ['Tipo_Renda', 'Nivel_Educacao', 'Estado_Civil', 'Tipo_Moradia', 'Cargo']\n",
    "\n",
    "for coluna in colunas_categoricas:\n",
    "    df[coluna] = df[coluna].map(traducoes)\n",
    "\n",
    "# Verificar resultado\n",
    "print(\"Valores únicos após tradução:\")\n",
    "for coluna in colunas_categoricas:\n",
    "    print(f\"\\n{coluna}:\")\n",
    "    print(df[coluna].unique())"
   ]
  },
  {
   "cell_type": "markdown",
   "metadata": {},
   "source": [
    "# 1.3 Obtendo informações iniciais e levantando requisitos de tratamento de dados"
   ]
  },
  {
   "cell_type": "markdown",
   "metadata": {},
   "source": [
    "Vamos observar quais dos seguintes tratamentos são necessários:\n",
    "\n",
    "1. Duplicatas\n",
    "   - Identificação e remoção de registros duplicados\n",
    "   - Análise de duplicidade em campos chave\n",
    "\n",
    "2. Dados nulos\n",
    "   - Verificação de valores ausentes\n",
    "   - Estratégias de tratamento (imputação ou remoção)\n",
    "\n",
    "3. Outliers\n",
    "   - Detecção de valores atípicos\n",
    "   - Análise de impacto no modelo\n",
    "   - Definição de estratégia de tratamento\n",
    "\n",
    "4. Padronização\n",
    "   - Padronização de categorias\n",
    "\n",
    "5. Tipagem correta dos dados\n",
    "   - Verificação dos tipos de dados\n",
    "   - Conversão para tipos adequados\n",
    "   - Consistência das categorias"
   ]
  },
  {
   "cell_type": "markdown",
   "metadata": {},
   "source": [
    "### 1.3.1 Duplicatas"
   ]
  },
  {
   "cell_type": "code",
   "execution_count": 20,
   "metadata": {},
   "outputs": [
    {
     "data": {
      "text/plain": [
       "np.int64(0)"
      ]
     },
     "execution_count": 20,
     "metadata": {},
     "output_type": "execute_result"
    }
   ],
   "source": [
    "# Identificando a presença de duplicatas\n",
    "df.duplicated().sum()"
   ]
  },
  {
   "cell_type": "markdown",
   "metadata": {},
   "source": [
    "### 1.3.2 Dados Nulos"
   ]
  },
  {
   "cell_type": "code",
   "execution_count": 21,
   "metadata": {},
   "outputs": [
    {
     "data": {
      "text/plain": [
       "ID_Solicitante           0\n",
       "Genero_Solicitante       0\n",
       "Possui_Carro             0\n",
       "Possui_Imovel            0\n",
       "Total_Filhos             0\n",
       "Renda_Total              0\n",
       "Tipo_Renda               0\n",
       "Nivel_Educacao           0\n",
       "Estado_Civil             0\n",
       "Tipo_Moradia             0\n",
       "Possui_Celular           0\n",
       "Possui_Tel_Comercial     0\n",
       "Possui_Tel_Fixo          0\n",
       "Possui_Email             0\n",
       "Cargo                    0\n",
       "Total_Membros_Familia    0\n",
       "Idade_Solicitante        0\n",
       "Anos_Trabalho            0\n",
       "Total_Dividas_Ruins      0\n",
       "Total_Dividas_Boas       0\n",
       "Status                   0\n",
       "dtype: int64"
      ]
     },
     "execution_count": 21,
     "metadata": {},
     "output_type": "execute_result"
    }
   ],
   "source": [
    "# Observando presença de valores nulos\n",
    "df.isnull().sum()"
   ]
  },
  {
   "cell_type": "markdown",
   "metadata": {},
   "source": [
    "### 1.3.3 Outliers"
   ]
  },
  {
   "cell_type": "code",
   "execution_count": 22,
   "metadata": {},
   "outputs": [
    {
     "data": {
      "text/plain": [
       "Index(['ID_Solicitante', 'Genero_Solicitante', 'Possui_Carro', 'Possui_Imovel',\n",
       "       'Total_Filhos', 'Renda_Total', 'Tipo_Renda', 'Nivel_Educacao',\n",
       "       'Estado_Civil', 'Tipo_Moradia', 'Possui_Celular',\n",
       "       'Possui_Tel_Comercial', 'Possui_Tel_Fixo', 'Possui_Email', 'Cargo',\n",
       "       'Total_Membros_Familia', 'Idade_Solicitante', 'Anos_Trabalho',\n",
       "       'Total_Dividas_Ruins', 'Total_Dividas_Boas', 'Status'],\n",
       "      dtype='object')"
      ]
     },
     "execution_count": 22,
     "metadata": {},
     "output_type": "execute_result"
    }
   ],
   "source": [
    "df.columns"
   ]
  },
  {
   "cell_type": "code",
   "execution_count": 32,
   "metadata": {},
   "outputs": [
    {
     "data": {
      "text/html": [
       "<div>\n",
       "<style scoped>\n",
       "    .dataframe tbody tr th:only-of-type {\n",
       "        vertical-align: middle;\n",
       "    }\n",
       "\n",
       "    .dataframe tbody tr th {\n",
       "        vertical-align: top;\n",
       "    }\n",
       "\n",
       "    .dataframe thead th {\n",
       "        text-align: right;\n",
       "    }\n",
       "</style>\n",
       "<table border=\"1\" class=\"dataframe\">\n",
       "  <thead>\n",
       "    <tr style=\"text-align: right;\">\n",
       "      <th></th>\n",
       "      <th>Total_Filhos</th>\n",
       "      <th>Renda_Total</th>\n",
       "      <th>Total_Membros_Familia</th>\n",
       "      <th>Idade_Solicitante</th>\n",
       "      <th>Anos_Trabalho</th>\n",
       "      <th>Total_Dividas_Ruins</th>\n",
       "      <th>Total_Dividas_Boas</th>\n",
       "    </tr>\n",
       "  </thead>\n",
       "  <tbody>\n",
       "    <tr>\n",
       "      <th>count</th>\n",
       "      <td>25128.000000</td>\n",
       "      <td>2.512800e+04</td>\n",
       "      <td>25128.000000</td>\n",
       "      <td>25128.000000</td>\n",
       "      <td>25128.000000</td>\n",
       "      <td>25128.000000</td>\n",
       "      <td>25128.000000</td>\n",
       "    </tr>\n",
       "    <tr>\n",
       "      <th>mean</th>\n",
       "      <td>0.509472</td>\n",
       "      <td>1.948365e+05</td>\n",
       "      <td>2.291309</td>\n",
       "      <td>40.995503</td>\n",
       "      <td>7.690903</td>\n",
       "      <td>0.333095</td>\n",
       "      <td>21.057545</td>\n",
       "    </tr>\n",
       "    <tr>\n",
       "      <th>std</th>\n",
       "      <td>0.762937</td>\n",
       "      <td>1.045211e+05</td>\n",
       "      <td>0.928871</td>\n",
       "      <td>9.552832</td>\n",
       "      <td>6.415007</td>\n",
       "      <td>1.569448</td>\n",
       "      <td>14.735347</td>\n",
       "    </tr>\n",
       "    <tr>\n",
       "      <th>min</th>\n",
       "      <td>0.000000</td>\n",
       "      <td>2.700000e+04</td>\n",
       "      <td>1.000000</td>\n",
       "      <td>21.000000</td>\n",
       "      <td>1.000000</td>\n",
       "      <td>0.000000</td>\n",
       "      <td>1.000000</td>\n",
       "    </tr>\n",
       "    <tr>\n",
       "      <th>25%</th>\n",
       "      <td>0.000000</td>\n",
       "      <td>1.350000e+05</td>\n",
       "      <td>2.000000</td>\n",
       "      <td>33.000000</td>\n",
       "      <td>3.000000</td>\n",
       "      <td>0.000000</td>\n",
       "      <td>9.000000</td>\n",
       "    </tr>\n",
       "    <tr>\n",
       "      <th>50%</th>\n",
       "      <td>0.000000</td>\n",
       "      <td>1.800000e+05</td>\n",
       "      <td>2.000000</td>\n",
       "      <td>40.000000</td>\n",
       "      <td>6.000000</td>\n",
       "      <td>0.000000</td>\n",
       "      <td>18.000000</td>\n",
       "    </tr>\n",
       "    <tr>\n",
       "      <th>75%</th>\n",
       "      <td>1.000000</td>\n",
       "      <td>2.250000e+05</td>\n",
       "      <td>3.000000</td>\n",
       "      <td>48.000000</td>\n",
       "      <td>10.000000</td>\n",
       "      <td>0.000000</td>\n",
       "      <td>31.000000</td>\n",
       "    </tr>\n",
       "    <tr>\n",
       "      <th>max</th>\n",
       "      <td>5.000000</td>\n",
       "      <td>1.575000e+06</td>\n",
       "      <td>7.000000</td>\n",
       "      <td>68.000000</td>\n",
       "      <td>44.000000</td>\n",
       "      <td>49.000000</td>\n",
       "      <td>61.000000</td>\n",
       "    </tr>\n",
       "  </tbody>\n",
       "</table>\n",
       "</div>"
      ],
      "text/plain": [
       "       Total_Filhos   Renda_Total  Total_Membros_Familia  Idade_Solicitante  \\\n",
       "count  25128.000000  2.512800e+04           25128.000000       25128.000000   \n",
       "mean       0.509472  1.948365e+05               2.291309          40.995503   \n",
       "std        0.762937  1.045211e+05               0.928871           9.552832   \n",
       "min        0.000000  2.700000e+04               1.000000          21.000000   \n",
       "25%        0.000000  1.350000e+05               2.000000          33.000000   \n",
       "50%        0.000000  1.800000e+05               2.000000          40.000000   \n",
       "75%        1.000000  2.250000e+05               3.000000          48.000000   \n",
       "max        5.000000  1.575000e+06               7.000000          68.000000   \n",
       "\n",
       "       Anos_Trabalho  Total_Dividas_Ruins  Total_Dividas_Boas  \n",
       "count   25128.000000         25128.000000        25128.000000  \n",
       "mean        7.690903             0.333095           21.057545  \n",
       "std         6.415007             1.569448           14.735347  \n",
       "min         1.000000             0.000000            1.000000  \n",
       "25%         3.000000             0.000000            9.000000  \n",
       "50%         6.000000             0.000000           18.000000  \n",
       "75%        10.000000             0.000000           31.000000  \n",
       "max        44.000000            49.000000           61.000000  "
      ]
     },
     "execution_count": 32,
     "metadata": {},
     "output_type": "execute_result"
    }
   ],
   "source": [
    "# Listando as variáveis numéricas não binárias\n",
    "# Criar DataFrame apenas com colunas numéricas excluindo as que contém \"Possui\"\n",
    "colunas_numericas = df.select_dtypes(include=['int64', 'float64']).columns\n",
    "colunas_sem_possui = [col for col in colunas_numericas \n",
    "                     if 'Possui' not in col \n",
    "                     and 'Status' not in col \n",
    "                     and 'ID_Solicitante' not in col]\n",
    "\n",
    "df_numericas = df[colunas_sem_possui]\n",
    "\n",
    "# Visualizar as colunas selecionadas\n",
    "\n",
    "df_numericas.describe()\n"
   ]
  },
  {
   "cell_type": "code",
   "execution_count": 33,
   "metadata": {},
   "outputs": [
    {
     "data": {
      "image/png": "[encoded data removed]",
      "text/plain": [
       "<Figure size 2000x1000 with 1 Axes>"
      ]
     },
     "metadata": {},
     "output_type": "display_data"
    }
   ],
   "source": [
    "# plotando todas as variaeis em boxplot\n",
    "plt.figure(figsize=(20,10))\n",
    "sns.boxplot(data=df_numericas, orient='h')\n",
    "plt.show()"
   ]
  },
  {
   "cell_type": "markdown",
   "metadata": {},
   "source": [
    "Dada a discrepância entre a variável de renda e as outras, vamos plotar separadamente renda e as outras:"
   ]
  },
  {
   "cell_type": "code",
   "execution_count": 37,
   "metadata": {},
   "outputs": [
    {
     "data": {
      "image/png": "[encoded data removed]",
      "text/plain": [
       "<Figure size 1500x700 with 1 Axes>"
      ]
     },
     "metadata": {},
     "output_type": "display_data"
    }
   ],
   "source": [
    "# Plotando renda\n",
    "plt.figure(figsize=(15,7))\n",
    "sns.boxplot(data=df_numericas['Renda_Total'], orient='h')\n",
    "plt.show()"
   ]
  },
  {
   "cell_type": "code",
   "execution_count": 38,
   "metadata": {},
   "outputs": [
    {
     "data": {
      "image/png": "[encoded data removed]",
      "text/plain": [
       "<Figure size 1500x700 with 1 Axes>"
      ]
     },
     "metadata": {},
     "output_type": "display_data"
    }
   ],
   "source": [
    "# Plotando as outras variáveis\n",
    "plt.figure(figsize=(15,7))\n",
    "sns.boxplot(data=df_numericas.drop('Renda_Total', axis=1), orient='h')\n",
    "plt.show()"
   ]
  },
  {
   "cell_type": "markdown",
   "metadata": {},
   "source": [
    "Identificamos uma assimetria significativa na distribuição dos dados de renda, total de dívidas ruins e anos de trabalho o que representa nossa primeira potencial necessidade de tratamento de dados. \n",
    "\n",
    "Como o modelo de machine learning ainda não foi definido, não podemos afirmar com certeza se será necessário normalizar estas variáveis. Os modelos paramétricos assumem que os dados seguem uma distribuição normal, enquanto outros, como Random Forest e XGBoost (não paramétricos), não fazem essa exigência.\n",
    "\n",
    "**Observação importante:** \n",
    "- Registrar esta característica dos dados para posterior avaliação\n",
    "- Considerar possíveis transformações (log, Box-Cox, etc.) caso o modelo escolhido exija normalidade"
   ]
  },
  {
   "cell_type": "markdown",
   "metadata": {},
   "source": [
    "### 1.3.4 Padronização de Categorias"
   ]
  },
  {
   "cell_type": "code",
   "execution_count": 39,
   "metadata": {},
   "outputs": [
    {
     "data": {
      "text/html": [
       "<div>\n",
       "<style scoped>\n",
       "    .dataframe tbody tr th:only-of-type {\n",
       "        vertical-align: middle;\n",
       "    }\n",
       "\n",
       "    .dataframe tbody tr th {\n",
       "        vertical-align: top;\n",
       "    }\n",
       "\n",
       "    .dataframe thead th {\n",
       "        text-align: right;\n",
       "    }\n",
       "</style>\n",
       "<table border=\"1\" class=\"dataframe\">\n",
       "  <thead>\n",
       "    <tr style=\"text-align: right;\">\n",
       "      <th></th>\n",
       "      <th>Genero_Solicitante</th>\n",
       "      <th>Tipo_Renda</th>\n",
       "      <th>Nivel_Educacao</th>\n",
       "      <th>Estado_Civil</th>\n",
       "      <th>Tipo_Moradia</th>\n",
       "      <th>Cargo</th>\n",
       "    </tr>\n",
       "  </thead>\n",
       "  <tbody>\n",
       "    <tr>\n",
       "      <th>0</th>\n",
       "      <td>M</td>\n",
       "      <td>Trabalhador CLT</td>\n",
       "      <td>Ensino Médio / Técnico</td>\n",
       "      <td>Casado</td>\n",
       "      <td>Casa/Apartamento</td>\n",
       "      <td>Equipe de Segurança</td>\n",
       "    </tr>\n",
       "    <tr>\n",
       "      <th>1</th>\n",
       "      <td>F</td>\n",
       "      <td>Associado Comercial</td>\n",
       "      <td>Ensino Médio / Técnico</td>\n",
       "      <td>Solteiro</td>\n",
       "      <td>Casa/Apartamento</td>\n",
       "      <td>Equipe de Vendas</td>\n",
       "    </tr>\n",
       "    <tr>\n",
       "      <th>2</th>\n",
       "      <td>F</td>\n",
       "      <td>Associado Comercial</td>\n",
       "      <td>Ensino Médio / Técnico</td>\n",
       "      <td>Solteiro</td>\n",
       "      <td>Casa/Apartamento</td>\n",
       "      <td>Equipe de Vendas</td>\n",
       "    </tr>\n",
       "    <tr>\n",
       "      <th>3</th>\n",
       "      <td>F</td>\n",
       "      <td>Associado Comercial</td>\n",
       "      <td>Ensino Médio / Técnico</td>\n",
       "      <td>Solteiro</td>\n",
       "      <td>Casa/Apartamento</td>\n",
       "      <td>Equipe de Vendas</td>\n",
       "    </tr>\n",
       "    <tr>\n",
       "      <th>4</th>\n",
       "      <td>F</td>\n",
       "      <td>Associado Comercial</td>\n",
       "      <td>Ensino Médio / Técnico</td>\n",
       "      <td>Solteiro</td>\n",
       "      <td>Casa/Apartamento</td>\n",
       "      <td>Equipe de Vendas</td>\n",
       "    </tr>\n",
       "  </tbody>\n",
       "</table>\n",
       "</div>"
      ],
      "text/plain": [
       "  Genero_Solicitante           Tipo_Renda          Nivel_Educacao  \\\n",
       "0                  M      Trabalhador CLT  Ensino Médio / Técnico   \n",
       "1                  F  Associado Comercial  Ensino Médio / Técnico   \n",
       "2                  F  Associado Comercial  Ensino Médio / Técnico   \n",
       "3                  F  Associado Comercial  Ensino Médio / Técnico   \n",
       "4                  F  Associado Comercial  Ensino Médio / Técnico   \n",
       "\n",
       "  Estado_Civil      Tipo_Moradia                Cargo  \n",
       "0       Casado  Casa/Apartamento  Equipe de Segurança  \n",
       "1     Solteiro  Casa/Apartamento     Equipe de Vendas  \n",
       "2     Solteiro  Casa/Apartamento     Equipe de Vendas  \n",
       "3     Solteiro  Casa/Apartamento     Equipe de Vendas  \n",
       "4     Solteiro  Casa/Apartamento     Equipe de Vendas  "
      ]
     },
     "execution_count": 68,
     "metadata": {},
     "output_type": "execute_result"
    }
   ],
   "source": [
    "# Agora vamos olhar para as variáveis categóricas\n",
    "df_categoricas = df.select_dtypes(include=['object'])\n",
    "df_categoricas.head()"
   ]
  },
  {
   "cell_type": "code",
   "execution_count": 40,
   "metadata": {},
   "outputs": [
    {
     "data": {
      "text/plain": [
       "Genero_Solicitante     2\n",
       "Tipo_Renda             5\n",
       "Nivel_Educacao         5\n",
       "Estado_Civil           5\n",
       "Tipo_Moradia           6\n",
       "Cargo                 18\n",
       "dtype: int64"
      ]
     },
     "execution_count": 69,
     "metadata": {},
     "output_type": "execute_result"
    }
   ],
   "source": [
    "# Observando a quantidade de valores únicos\n",
    "df_categoricas.nunique()"
   ]
  },
  {
   "cell_type": "markdown",
   "metadata": {},
   "source": [
    "Para a variável binária (Genero_Solicitante), vamos realizar uma conversão apenas para 0 e 1. Porém, vamos observar se uma transformação como a One-Hot Encoding seria cabível para todas as outras variáveis categóricas. Para isso, podemos determinar quais variáveis são ordinais e quais são nominais:"
   ]
  },
  {
   "cell_type": "code",
   "execution_count": 45,
   "metadata": {},
   "outputs": [
    {
     "data": {
      "text/html": [
       "<div>\n",
       "<style scoped>\n",
       "    .dataframe tbody tr th:only-of-type {\n",
       "        vertical-align: middle;\n",
       "    }\n",
       "\n",
       "    .dataframe tbody tr th {\n",
       "        vertical-align: top;\n",
       "    }\n",
       "\n",
       "    .dataframe thead th {\n",
       "        text-align: right;\n",
       "    }\n",
       "</style>\n",
       "<table border=\"1\" class=\"dataframe\">\n",
       "  <thead>\n",
       "    <tr style=\"text-align: right;\">\n",
       "      <th></th>\n",
       "      <th>Genero_Solicitante</th>\n",
       "      <th>Tipo_Renda</th>\n",
       "      <th>Nivel_Educacao</th>\n",
       "      <th>Estado_Civil</th>\n",
       "      <th>Tipo_Moradia</th>\n",
       "    </tr>\n",
       "  </thead>\n",
       "  <tbody>\n",
       "    <tr>\n",
       "      <th>0</th>\n",
       "      <td>M</td>\n",
       "      <td>Trabalhador CLT</td>\n",
       "      <td>Ensino Médio / Técnico</td>\n",
       "      <td>Casado</td>\n",
       "      <td>Casa/Apartamento</td>\n",
       "    </tr>\n",
       "    <tr>\n",
       "      <th>1</th>\n",
       "      <td>F</td>\n",
       "      <td>Associado Comercial</td>\n",
       "      <td>Ensino Superior</td>\n",
       "      <td>Solteiro</td>\n",
       "      <td>Apartamento Alugado</td>\n",
       "    </tr>\n",
       "    <tr>\n",
       "      <th>2</th>\n",
       "      <td>NaN</td>\n",
       "      <td>Servidor Público</td>\n",
       "      <td>Superior Incompleto</td>\n",
       "      <td>União Estável</td>\n",
       "      <td>Apartamento Municipal</td>\n",
       "    </tr>\n",
       "    <tr>\n",
       "      <th>3</th>\n",
       "      <td>NaN</td>\n",
       "      <td>Estudante</td>\n",
       "      <td>Ensino Fundamental</td>\n",
       "      <td>Separado</td>\n",
       "      <td>Com os Pais</td>\n",
       "    </tr>\n",
       "    <tr>\n",
       "      <th>4</th>\n",
       "      <td>NaN</td>\n",
       "      <td>Aposentado</td>\n",
       "      <td>Pós-graduação</td>\n",
       "      <td>Viúvo</td>\n",
       "      <td>Apartamento Cooperativa</td>\n",
       "    </tr>\n",
       "    <tr>\n",
       "      <th>5</th>\n",
       "      <td>NaN</td>\n",
       "      <td>NaN</td>\n",
       "      <td>NaN</td>\n",
       "      <td>NaN</td>\n",
       "      <td>Apartamento Funcional</td>\n",
       "    </tr>\n",
       "  </tbody>\n",
       "</table>\n",
       "</div>"
      ],
      "text/plain": [
       "  Genero_Solicitante           Tipo_Renda          Nivel_Educacao  \\\n",
       "0                  M      Trabalhador CLT  Ensino Médio / Técnico   \n",
       "1                  F  Associado Comercial         Ensino Superior   \n",
       "2                NaN     Servidor Público     Superior Incompleto   \n",
       "3                NaN            Estudante      Ensino Fundamental   \n",
       "4                NaN           Aposentado           Pós-graduação   \n",
       "5                NaN                  NaN                     NaN   \n",
       "\n",
       "    Estado_Civil             Tipo_Moradia  \n",
       "0         Casado         Casa/Apartamento  \n",
       "1       Solteiro      Apartamento Alugado  \n",
       "2  União Estável    Apartamento Municipal  \n",
       "3       Separado              Com os Pais  \n",
       "4          Viúvo  Apartamento Cooperativa  \n",
       "5            NaN    Apartamento Funcional  "
      ]
     },
     "execution_count": 70,
     "metadata": {},
     "output_type": "execute_result"
    }
   ],
   "source": [
    "# Observando os valores únicos de todas as variáveis categóricas (exceto Cargo, que possui muitos valores únicos)\n",
    "unique_values = {col: df_categoricas[col].unique() for col in df_categoricas.columns if col != 'Cargo'}\n",
    "unique_values_df = pd.DataFrame(dict([(k, pd.Series(v)) for k, v in unique_values.items()]))\n",
    "unique_values_df"
   ]
  },
  {
   "cell_type": "markdown",
   "metadata": {},
   "source": [
    "Podemos afirmar seguramente que as variáveis como gênero e estado civil são nominais.\n",
    "A princípio, poderíamos afirmar que o tipo de moradia também é nominal, porém, ao observarmos os dados, concluímos que existe uma hierarquia entre os valores únicos, dado que viver com os pais supõe uma pior condição financeira do que ter o próprio apartamento. Porém, ainda não sabemos os detalhes dessa hierarquia, e algumas confusões podem ocorrer. Então, consultei o time de governança de dados e eles me entregaram um dicionário completo dessa tabela, vamos observá-la para adquirirmos mais informações dos dados:"
   ]
  },
  {
   "cell_type": "code",
   "execution_count": 51,
   "metadata": {},
   "outputs": [],
   "source": [
    "# Observando os valores únicos de todas as variáveis (exceto ID_Solicitante)\n",
    "unique_values = {col: df[col].unique() for col in df.columns if col != 'ID_Solicitante'}\n",
    "unique_values_df = pd.DataFrame(dict([(k, pd.Series(v)) for k, v in unique_values.items()])\n",
    ")\n",
    "unique_values_df.to_clipboard()\n"
   ]
  }
 ],
 "metadata": {
  "kernelspec": {
   "display_name": "venv",
   "language": "python",
   "name": "python3"
  },
  "language_info": {
   "codemirror_mode": {
    "name": "ipython",
    "version": 3
   },
   "file_extension": ".py",
   "mimetype": "text/x-python",
   "name": "python",
   "nbconvert_exporter": "python",
   "pygments_lexer": "ipython3",
   "version": "3.13.2"
  }
 },
 "nbformat": 4,
 "nbformat_minor": 2
}
